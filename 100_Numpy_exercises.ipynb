{
 "cells": [
  {
   "cell_type": "markdown",
   "id": "86d7d90d",
   "metadata": {},
   "source": [
    "# 100 numpy exercises\n",
    "\n",
    "This is a collection of exercises that have been collected in the numpy mailing list, on stack overflow\n",
    "and in the numpy documentation. The goal of this collection is to offer a quick reference for both old\n",
    "and new users but also to provide a set of exercises for those who teach.\n",
    "\n",
    "\n",
    "If you find an error or think you've a better way to solve some of them, feel\n",
    "free to open an issue at <https://github.com/rougier/numpy-100>."
   ]
  },
  {
   "cell_type": "markdown",
   "id": "23c3de32",
   "metadata": {},
   "source": [
    "File automatically generated. See the documentation to update questions/answers/hints programmatically."
   ]
  },
  {
   "cell_type": "markdown",
   "id": "71eb9a4d",
   "metadata": {},
   "source": [
    "Run the `initialize.py` module, then for each question you can query the\n",
    "answer or an hint with `hint(n)` or `answer(n)` for `n` question number."
   ]
  },
  {
   "cell_type": "code",
   "execution_count": null,
   "id": "f752b0f7",
   "metadata": {},
   "outputs": [],
   "source": [
    "%run initialise.py"
   ]
  },
  {
   "cell_type": "markdown",
   "id": "4f870b6b",
   "metadata": {},
   "source": [
    "#### 1. Import the numpy package under the name `np` (★☆☆)"
   ]
  },
  {
   "cell_type": "code",
   "execution_count": 1,
   "id": "62928f13",
   "metadata": {},
   "outputs": [],
   "source": [
    "import numpy as np"
   ]
  },
  {
   "cell_type": "markdown",
   "id": "edadb91f",
   "metadata": {},
   "source": [
    "#### 2. Print the numpy version and the configuration (★☆☆)"
   ]
  },
  {
   "cell_type": "code",
   "execution_count": 3,
   "id": "81886061",
   "metadata": {},
   "outputs": [
    {
     "name": "stdout",
     "output_type": "stream",
     "text": [
      "{\n",
      "  \"Compilers\": {\n",
      "    \"c\": {\n",
      "      \"name\": \"msvc\",\n",
      "      \"linker\": \"link\",\n",
      "      \"version\": \"19.43.34808\",\n",
      "      \"commands\": \"cl\"\n",
      "    },\n",
      "    \"cython\": {\n",
      "      \"name\": \"cython\",\n",
      "      \"linker\": \"cython\",\n",
      "      \"version\": \"3.1.2\",\n",
      "      \"commands\": \"cython\"\n",
      "    },\n",
      "    \"c++\": {\n",
      "      \"name\": \"msvc\",\n",
      "      \"linker\": \"link\",\n",
      "      \"version\": \"19.43.34808\",\n",
      "      \"commands\": \"cl\"\n",
      "    }\n",
      "  },\n",
      "  \"Machine Information\": {\n",
      "    \"host\": {\n",
      "      \"cpu\": \"x86_64\",\n",
      "      \"family\": \"x86_64\",\n",
      "      \"endian\": \"little\",\n",
      "      \"system\": \"windows\"\n",
      "    },\n",
      "    \"build\": {\n",
      "      \"cpu\": \"x86_64\",\n",
      "      \"family\": \"x86_64\",\n",
      "      \"endian\": \"little\",\n",
      "      \"system\": \"windows\"\n",
      "    }\n",
      "  },\n",
      "  \"Build Dependencies\": {\n",
      "    \"blas\": {\n",
      "      \"name\": \"scipy-openblas\",\n",
      "      \"found\": true,\n",
      "      \"version\": \"0.3.29\",\n",
      "      \"detection method\": \"pkgconfig\",\n",
      "      \"include directory\": \"C:/Users/runneradmin/AppData/Local/Temp/cibw-run-9tmma_o0/cp313-win_amd64/build/venv/Lib/site-packages/scipy_openblas64/include\",\n",
      "      \"lib directory\": \"C:/Users/runneradmin/AppData/Local/Temp/cibw-run-9tmma_o0/cp313-win_amd64/build/venv/Lib/site-packages/scipy_openblas64/lib\",\n",
      "      \"openblas configuration\": \"OpenBLAS 0.3.29  USE64BITINT DYNAMIC_ARCH NO_AFFINITY Haswell MAX_THREADS=24\",\n",
      "      \"pc file directory\": \"D:/a/numpy/numpy/.openblas\"\n",
      "    },\n",
      "    \"lapack\": {\n",
      "      \"name\": \"scipy-openblas\",\n",
      "      \"found\": true,\n",
      "      \"version\": \"0.3.29\",\n",
      "      \"detection method\": \"pkgconfig\",\n",
      "      \"include directory\": \"C:/Users/runneradmin/AppData/Local/Temp/cibw-run-9tmma_o0/cp313-win_amd64/build/venv/Lib/site-packages/scipy_openblas64/include\",\n",
      "      \"lib directory\": \"C:/Users/runneradmin/AppData/Local/Temp/cibw-run-9tmma_o0/cp313-win_amd64/build/venv/Lib/site-packages/scipy_openblas64/lib\",\n",
      "      \"openblas configuration\": \"OpenBLAS 0.3.29  USE64BITINT DYNAMIC_ARCH NO_AFFINITY Haswell MAX_THREADS=24\",\n",
      "      \"pc file directory\": \"D:/a/numpy/numpy/.openblas\"\n",
      "    }\n",
      "  },\n",
      "  \"Python Information\": {\n",
      "    \"path\": \"C:\\\\Users\\\\runneradmin\\\\AppData\\\\Local\\\\Temp\\\\build-env-13_2l0e9\\\\Scripts\\\\python.exe\",\n",
      "    \"version\": \"3.13\"\n",
      "  },\n",
      "  \"SIMD Extensions\": {\n",
      "    \"baseline\": [\n",
      "      \"SSE\",\n",
      "      \"SSE2\",\n",
      "      \"SSE3\"\n",
      "    ],\n",
      "    \"found\": [\n",
      "      \"SSSE3\",\n",
      "      \"SSE41\",\n",
      "      \"POPCNT\",\n",
      "      \"SSE42\",\n",
      "      \"AVX\",\n",
      "      \"F16C\",\n",
      "      \"FMA3\",\n",
      "      \"AVX2\"\n",
      "    ],\n",
      "    \"not found\": [\n",
      "      \"AVX512F\",\n",
      "      \"AVX512CD\",\n",
      "      \"AVX512_SKX\",\n",
      "      \"AVX512_CLX\",\n",
      "      \"AVX512_CNL\",\n",
      "      \"AVX512_ICL\"\n",
      "    ]\n",
      "  }\n",
      "}\n",
      "2.3.1 None\n"
     ]
    },
    {
     "name": "stderr",
     "output_type": "stream",
     "text": [
      "d:\\mukul\\Desktop\\Unimelb\\numpy-100\\.venv\\Lib\\site-packages\\numpy\\__config__.py:155: UserWarning: Install `pyyaml` for better output\n",
      "  warnings.warn(\"Install `pyyaml` for better output\", stacklevel=1)\n"
     ]
    }
   ],
   "source": [
    "print(np.__version__, np.show_config())"
   ]
  },
  {
   "cell_type": "markdown",
   "id": "68fc6d4e",
   "metadata": {},
   "source": [
    "#### 3. Create a null vector of size 10 (★☆☆)"
   ]
  },
  {
   "cell_type": "code",
   "execution_count": 6,
   "id": "49109360",
   "metadata": {},
   "outputs": [],
   "source": [
    "a = np.zeros(10)"
   ]
  },
  {
   "cell_type": "markdown",
   "id": "0b1d0ac2",
   "metadata": {},
   "source": [
    "#### 4. How to find the memory size of any array (★☆☆)"
   ]
  },
  {
   "cell_type": "code",
   "execution_count": 10,
   "id": "73b370a4",
   "metadata": {},
   "outputs": [
    {
     "name": "stdout",
     "output_type": "stream",
     "text": [
      "80\n"
     ]
    }
   ],
   "source": [
    "# a.size is the number of elements in the array\n",
    "# a.itemsize is the size in bytes of each element in the array\n",
    "print(a.size*a.itemsize)"
   ]
  },
  {
   "cell_type": "markdown",
   "id": "56876d69",
   "metadata": {},
   "source": [
    "#### 5. How to get the documentation of the numpy add function from the command line? (★☆☆)"
   ]
  },
  {
   "cell_type": "code",
   "execution_count": 12,
   "id": "95294b19",
   "metadata": {},
   "outputs": [
    {
     "name": "stdout",
     "output_type": "stream",
     "text": [
      "add(x1, x2, /, out=None, *, where=True, casting='same_kind', order='K', dtype=None, subok=True[, signature])\n",
      "\n",
      "Add arguments element-wise.\n",
      "\n",
      "Parameters\n",
      "----------\n",
      "x1, x2 : array_like\n",
      "    The arrays to be added.\n",
      "    If ``x1.shape != x2.shape``, they must be broadcastable to a common\n",
      "    shape (which becomes the shape of the output).\n",
      "out : ndarray, None, or tuple of ndarray and None, optional\n",
      "    A location into which the result is stored. If provided, it must have\n",
      "    a shape that the inputs broadcast to. If not provided or None,\n",
      "    a freshly-allocated array is returned. A tuple (possible only as a\n",
      "    keyword argument) must have length equal to the number of outputs.\n",
      "where : array_like, optional\n",
      "    This condition is broadcast over the input. At locations where the\n",
      "    condition is True, the `out` array will be set to the ufunc result.\n",
      "    Elsewhere, the `out` array will retain its original value.\n",
      "    Note that if an uninitialized `out` array is created via the default\n",
      "    ``out=None``, locations within it where the condition is False will\n",
      "    remain uninitialized.\n",
      "**kwargs\n",
      "    For other keyword-only arguments, see the\n",
      "    :ref:`ufunc docs <ufuncs.kwargs>`.\n",
      "\n",
      "Returns\n",
      "-------\n",
      "add : ndarray or scalar\n",
      "    The sum of `x1` and `x2`, element-wise.\n",
      "    This is a scalar if both `x1` and `x2` are scalars.\n",
      "\n",
      "Notes\n",
      "-----\n",
      "Equivalent to `x1` + `x2` in terms of array broadcasting.\n",
      "\n",
      "Examples\n",
      "--------\n",
      ">>> import numpy as np\n",
      ">>> np.add(1.0, 4.0)\n",
      "5.0\n",
      ">>> x1 = np.arange(9.0).reshape((3, 3))\n",
      ">>> x2 = np.arange(3.0)\n",
      ">>> np.add(x1, x2)\n",
      "array([[  0.,   2.,   4.],\n",
      "       [  3.,   5.,   7.],\n",
      "       [  6.,   8.,  10.]])\n",
      "\n",
      "The ``+`` operator can be used as a shorthand for ``np.add`` on ndarrays.\n",
      "\n",
      ">>> x1 = np.arange(9.0).reshape((3, 3))\n",
      ">>> x2 = np.arange(3.0)\n",
      ">>> x1 + x2\n",
      "array([[ 0.,  2.,  4.],\n",
      "       [ 3.,  5.,  7.],\n",
      "       [ 6.,  8., 10.]])\n"
     ]
    }
   ],
   "source": [
    "! python -c \"import numpy as np; np.info(np.add)\""
   ]
  },
  {
   "cell_type": "markdown",
   "id": "ee618a7b",
   "metadata": {},
   "source": [
    "#### 6. Create a null vector of size 10 but the fifth value which is 1 (★☆☆)"
   ]
  },
  {
   "cell_type": "code",
   "execution_count": 13,
   "id": "ce78fafd",
   "metadata": {},
   "outputs": [],
   "source": [
    "a = np.zeros(10)\n",
    "a[4] = 1"
   ]
  },
  {
   "cell_type": "markdown",
   "id": "fd391587",
   "metadata": {},
   "source": [
    "#### 7. Create a vector with values ranging from 10 to 49 (★☆☆)"
   ]
  },
  {
   "cell_type": "code",
   "execution_count": 15,
   "id": "327d872f",
   "metadata": {},
   "outputs": [],
   "source": [
    "a = np.arange(10,50)"
   ]
  },
  {
   "cell_type": "markdown",
   "id": "74e245ac",
   "metadata": {},
   "source": [
    "#### 8. Reverse a vector (first element becomes last) (★☆☆)"
   ]
  },
  {
   "cell_type": "code",
   "execution_count": 16,
   "id": "d1dd2da1",
   "metadata": {},
   "outputs": [
    {
     "data": {
      "text/plain": [
       "array([9, 8, 7, 6, 5, 4, 3, 2, 1, 0])"
      ]
     },
     "execution_count": 16,
     "metadata": {},
     "output_type": "execute_result"
    }
   ],
   "source": [
    "a = np.arange(10)\n",
    "a[::-1]"
   ]
  },
  {
   "cell_type": "markdown",
   "id": "330064b1",
   "metadata": {},
   "source": [
    "#### 9. Create a 3x3 matrix with values ranging from 0 to 8 (★☆☆)"
   ]
  },
  {
   "cell_type": "code",
   "execution_count": 17,
   "id": "ad5a2a6e",
   "metadata": {},
   "outputs": [
    {
     "data": {
      "text/plain": [
       "array([[0, 1, 2],\n",
       "       [3, 4, 5],\n",
       "       [6, 7, 8]])"
      ]
     },
     "execution_count": 17,
     "metadata": {},
     "output_type": "execute_result"
    }
   ],
   "source": [
    "np.arange(0,9).reshape(3,3)"
   ]
  },
  {
   "cell_type": "markdown",
   "id": "51a32c95",
   "metadata": {},
   "source": [
    "#### 10. Find indices of non-zero elements from [1,2,0,0,4,0] (★☆☆)"
   ]
  },
  {
   "cell_type": "code",
   "execution_count": 19,
   "id": "9d820628",
   "metadata": {},
   "outputs": [
    {
     "data": {
      "text/plain": [
       "array([0, 1, 4])"
      ]
     },
     "execution_count": 19,
     "metadata": {},
     "output_type": "execute_result"
    }
   ],
   "source": [
    "a = [1,2,0,0,4,0]\n",
    "np.nonzero(a)[0]"
   ]
  },
  {
   "cell_type": "markdown",
   "id": "bcc28d4e",
   "metadata": {},
   "source": [
    "#### 11. Create a 3x3 identity matrix (★☆☆)"
   ]
  },
  {
   "cell_type": "code",
   "execution_count": 20,
   "id": "eb504454",
   "metadata": {},
   "outputs": [
    {
     "data": {
      "text/plain": [
       "array([[1., 0., 0.],\n",
       "       [0., 1., 0.],\n",
       "       [0., 0., 1.]])"
      ]
     },
     "execution_count": 20,
     "metadata": {},
     "output_type": "execute_result"
    }
   ],
   "source": [
    "np.eye(3)"
   ]
  },
  {
   "cell_type": "markdown",
   "id": "3adc02f3",
   "metadata": {},
   "source": [
    "#### 12. Create a 3x3x3 array with random values (★☆☆)"
   ]
  },
  {
   "cell_type": "code",
   "execution_count": 22,
   "id": "8b91d489",
   "metadata": {},
   "outputs": [
    {
     "data": {
      "text/plain": [
       "array([[[0.85488175, 0.8220561 , 0.48592064],\n",
       "        [0.02213549, 0.44194212, 0.33616879],\n",
       "        [0.20397064, 0.39999989, 0.55275383]],\n",
       "\n",
       "       [[0.29408027, 0.19348262, 0.66893451],\n",
       "        [0.39472677, 0.80306111, 0.07054702],\n",
       "        [0.5679078 , 0.45557406, 0.74850259]],\n",
       "\n",
       "       [[0.27581746, 0.41797454, 0.36992066],\n",
       "        [0.36250004, 0.86883191, 0.97808356],\n",
       "        [0.40251787, 0.30038702, 0.37778018]]])"
      ]
     },
     "execution_count": 22,
     "metadata": {},
     "output_type": "execute_result"
    }
   ],
   "source": [
    "np.random.rand(3,3,3)"
   ]
  },
  {
   "cell_type": "markdown",
   "id": "a7cd9e02",
   "metadata": {},
   "source": [
    "#### 13. Create a 10x10 array with random values and find the minimum and maximum values (★☆☆)"
   ]
  },
  {
   "cell_type": "code",
   "execution_count": 24,
   "id": "a9871150",
   "metadata": {},
   "outputs": [
    {
     "name": "stdout",
     "output_type": "stream",
     "text": [
      "0.013440161634570402 0.9878817061999278\n"
     ]
    }
   ],
   "source": [
    "a = np.random.rand(10,10)\n",
    "print(a.min(), a.max())"
   ]
  },
  {
   "cell_type": "markdown",
   "id": "9c007df3",
   "metadata": {},
   "source": [
    "#### 14. Create a random vector of size 30 and find the mean value (★☆☆)"
   ]
  },
  {
   "cell_type": "code",
   "execution_count": 27,
   "id": "2ee43ca7",
   "metadata": {},
   "outputs": [
    {
     "name": "stdout",
     "output_type": "stream",
     "text": [
      "0.5438778052597526\n"
     ]
    }
   ],
   "source": [
    "a = np.random.random(30)\n",
    "print(a.mean())"
   ]
  },
  {
   "cell_type": "markdown",
   "id": "290aab6f",
   "metadata": {},
   "source": [
    "#### 15. Create a 2d array with 1 on the border and 0 inside (★☆☆)"
   ]
  },
  {
   "cell_type": "code",
   "execution_count": 30,
   "id": "def020fc",
   "metadata": {},
   "outputs": [
    {
     "data": {
      "text/plain": [
       "array([[1., 1., 1., 1., 1., 1.],\n",
       "       [1., 0., 0., 0., 0., 1.],\n",
       "       [1., 0., 0., 0., 0., 1.],\n",
       "       [1., 0., 0., 0., 0., 1.],\n",
       "       [1., 0., 0., 0., 0., 1.],\n",
       "       [1., 1., 1., 1., 1., 1.]])"
      ]
     },
     "execution_count": 30,
     "metadata": {},
     "output_type": "execute_result"
    }
   ],
   "source": [
    "z = np.zeros((4,4))\n",
    "z = np.pad(z, pad_width=1, mode='constant', constant_values=1)\n",
    "z"
   ]
  },
  {
   "cell_type": "markdown",
   "id": "d5949ccd",
   "metadata": {},
   "source": [
    "#### 16. How to add a border (filled with 0's) around an existing array? (★☆☆)"
   ]
  },
  {
   "cell_type": "code",
   "execution_count": 31,
   "id": "47aa6e9b",
   "metadata": {},
   "outputs": [
    {
     "data": {
      "text/plain": [
       "array([[0., 0., 0., 0., 0., 0., 0., 0.],\n",
       "       [0., 1., 1., 1., 1., 1., 1., 0.],\n",
       "       [0., 1., 0., 0., 0., 0., 1., 0.],\n",
       "       [0., 1., 0., 0., 0., 0., 1., 0.],\n",
       "       [0., 1., 0., 0., 0., 0., 1., 0.],\n",
       "       [0., 1., 0., 0., 0., 0., 1., 0.],\n",
       "       [0., 1., 1., 1., 1., 1., 1., 0.],\n",
       "       [0., 0., 0., 0., 0., 0., 0., 0.]])"
      ]
     },
     "execution_count": 31,
     "metadata": {},
     "output_type": "execute_result"
    }
   ],
   "source": [
    "np.pad(z, pad_width=1, mode='constant', constant_values=0)"
   ]
  },
  {
   "cell_type": "markdown",
   "id": "da6ea764",
   "metadata": {},
   "source": [
    "#### 17. What is the result of the following expression? (★☆☆)\n",
    "```python\n",
    "0 * np.nan                  # np.nan\n",
    "np.nan == np.nan            # False\n",
    "np.inf > np.nan             # False \n",
    "np.nan - np.nan             # np.nan \n",
    "np.nan in set([np.nan])     # True  : in set\n",
    "0.3 == 3 * 0.1              # False : floating point errors\n",
    "```"
   ]
  },
  {
   "cell_type": "code",
   "execution_count": 33,
   "id": "047bf4c4",
   "metadata": {},
   "outputs": [
    {
     "name": "stdout",
     "output_type": "stream",
     "text": [
      "nan\n",
      "False\n",
      "False\n",
      "nan\n",
      "True\n",
      "False\n"
     ]
    }
   ],
   "source": [
    "print(0 * np.nan)\n",
    "print(np.nan == np.nan)\n",
    "print(np.inf > np.nan)\n",
    "print(np.nan - np.nan)\n",
    "print(np.nan in set([np.nan]))\n",
    "print(0.3 == 3 * 0.1)"
   ]
  },
  {
   "cell_type": "markdown",
   "id": "e0b25bf8",
   "metadata": {},
   "source": [
    "#### 18. Create a 5x5 matrix with values 1,2,3,4 just below the diagonal (★☆☆)"
   ]
  },
  {
   "cell_type": "code",
   "execution_count": 35,
   "id": "9392a2cc",
   "metadata": {},
   "outputs": [
    {
     "data": {
      "text/plain": [
       "array([[0, 0, 0, 0, 0],\n",
       "       [1, 0, 0, 0, 0],\n",
       "       [0, 2, 0, 0, 0],\n",
       "       [0, 0, 3, 0, 0],\n",
       "       [0, 0, 0, 4, 0]])"
      ]
     },
     "execution_count": 35,
     "metadata": {},
     "output_type": "execute_result"
    }
   ],
   "source": [
    "np.diag(np.arange(1,5), k=-1)"
   ]
  },
  {
   "cell_type": "markdown",
   "id": "ffc7e714",
   "metadata": {},
   "source": [
    "#### 19. Create a 8x8 matrix and fill it with a checkerboard pattern (★☆☆)"
   ]
  },
  {
   "cell_type": "code",
   "execution_count": 40,
   "id": "1892d23a",
   "metadata": {},
   "outputs": [
    {
     "data": {
      "text/plain": [
       "array([[0, 1, 0, 1, 0, 1, 0, 1],\n",
       "       [1, 0, 1, 0, 1, 0, 1, 0],\n",
       "       [0, 1, 0, 1, 0, 1, 0, 1],\n",
       "       [1, 0, 1, 0, 1, 0, 1, 0],\n",
       "       [0, 1, 0, 1, 0, 1, 0, 1],\n",
       "       [1, 0, 1, 0, 1, 0, 1, 0],\n",
       "       [0, 1, 0, 1, 0, 1, 0, 1],\n",
       "       [1, 0, 1, 0, 1, 0, 1, 0]])"
      ]
     },
     "execution_count": 40,
     "metadata": {},
     "output_type": "execute_result"
    }
   ],
   "source": [
    "a = np.zeros((8,8), dtype=int)\n",
    "a[1::2, ::2]=1\n",
    "a[::2, 1::2]=1\n",
    "a"
   ]
  },
  {
   "cell_type": "markdown",
   "id": "42412361",
   "metadata": {},
   "source": [
    "#### 20. Consider a (6,7,8) shape array, what is the index (x,y,z) of the 100th element? (★☆☆)"
   ]
  },
  {
   "cell_type": "code",
   "execution_count": 41,
   "id": "c4060dee",
   "metadata": {},
   "outputs": [
    {
     "name": "stdout",
     "output_type": "stream",
     "text": [
      "(np.int64(1), np.int64(5), np.int64(3))\n"
     ]
    }
   ],
   "source": [
    "z = np.zeros((6,7,8))\n",
    "# 100th element mapped to (x, y, z) coordinates -\n",
    "print(np.unravel_index(99, z.shape))"
   ]
  },
  {
   "cell_type": "markdown",
   "id": "fec7cacf",
   "metadata": {},
   "source": [
    "#### 21. Create a checkerboard 8x8 matrix using the tile function (★☆☆)"
   ]
  },
  {
   "cell_type": "code",
   "execution_count": 43,
   "id": "b94338bc",
   "metadata": {},
   "outputs": [
    {
     "data": {
      "text/plain": [
       "array([[0, 1, 0, 1, 0, 1, 0, 1],\n",
       "       [1, 0, 1, 0, 1, 0, 1, 0],\n",
       "       [0, 1, 0, 1, 0, 1, 0, 1],\n",
       "       [1, 0, 1, 0, 1, 0, 1, 0],\n",
       "       [0, 1, 0, 1, 0, 1, 0, 1],\n",
       "       [1, 0, 1, 0, 1, 0, 1, 0],\n",
       "       [0, 1, 0, 1, 0, 1, 0, 1],\n",
       "       [1, 0, 1, 0, 1, 0, 1, 0]])"
      ]
     },
     "execution_count": 43,
     "metadata": {},
     "output_type": "execute_result"
    }
   ],
   "source": [
    "z = np.tile(np.array([[0,1],[1,0]]), (4,4))\n",
    "z"
   ]
  },
  {
   "cell_type": "markdown",
   "id": "e3bb989c",
   "metadata": {},
   "source": [
    "#### 22. Normalize a 5x5 random matrix (★☆☆)"
   ]
  },
  {
   "cell_type": "code",
   "execution_count": 47,
   "id": "95b73cf2",
   "metadata": {},
   "outputs": [
    {
     "name": "stdout",
     "output_type": "stream",
     "text": [
      "[[ 1.09472312 -1.48941432 -1.3167516   0.69436667  0.68574812]\n",
      " [ 1.84834262 -0.03043658  0.16278316  0.14486428 -0.24190938]\n",
      " [ 1.59878616 -0.29299268  1.81864446  1.1782978  -0.95886727]\n",
      " [ 0.64811934 -0.93079201 -0.84099274 -1.3184262  -1.46612583]\n",
      " [-0.92342553  0.012708    0.46577329 -0.36564304 -0.17737985]]\n"
     ]
    }
   ],
   "source": [
    "z = np.random.random((5,5))\n",
    "# normaise\n",
    "z = (z - np.mean(z)) / np.std(z)\n",
    "print(z)"
   ]
  },
  {
   "cell_type": "markdown",
   "id": "9bf6610b",
   "metadata": {},
   "source": [
    "#### 23. Create a custom dtype that describes a color as four unsigned bytes (RGBA) (★☆☆)"
   ]
  },
  {
   "cell_type": "code",
   "execution_count": 48,
   "id": "0f45e6b5",
   "metadata": {},
   "outputs": [],
   "source": [
    "color = np.dtype([(\"r\", np.ubyte, 1),\n",
    "                 (\"g\", np.ubyte, 1),    \n",
    "                 (\"b\", np.ubyte, 1),\n",
    "                 (\"a\", np.ubyte, 1)])"
   ]
  },
  {
   "cell_type": "markdown",
   "id": "0c4834ae",
   "metadata": {},
   "source": [
    "#### 24. Multiply a 5x3 matrix by a 3x2 matrix (real matrix product) (★☆☆)"
   ]
  },
  {
   "cell_type": "code",
   "execution_count": 51,
   "id": "7b4bbf2b",
   "metadata": {},
   "outputs": [
    {
     "data": {
      "text/plain": [
       "(5, 2)"
      ]
     },
     "execution_count": 51,
     "metadata": {},
     "output_type": "execute_result"
    }
   ],
   "source": [
    "a = np.random.rand(5,3)\n",
    "b = np.random.rand(3,2)\n",
    "c = a @ b\n",
    "c.shape"
   ]
  },
  {
   "cell_type": "markdown",
   "id": "c7b74399",
   "metadata": {},
   "source": [
    "#### 25. Given a 1D array, negate all elements which are between 3 and 8, in place. (★☆☆)"
   ]
  },
  {
   "cell_type": "code",
   "execution_count": 54,
   "id": "30f35110",
   "metadata": {},
   "outputs": [
    {
     "data": {
      "text/plain": [
       "array([ 0,  1,  2,  3, -4, -5, -6, -7,  8,  9])"
      ]
     },
     "execution_count": 54,
     "metadata": {},
     "output_type": "execute_result"
    }
   ],
   "source": [
    "a = np.arange(10)\n",
    "a[(a>3) & (a<8)] *= -1\n",
    "a"
   ]
  },
  {
   "cell_type": "markdown",
   "id": "da225b07",
   "metadata": {},
   "source": [
    "#### 26. What is the output of the following script? (★☆☆)\n",
    "```python\n",
    "# Author: Jake VanderPlas\n",
    "\n",
    "print(sum(range(5),-1))    # adds up range(5) -> 10 and -1 -> 9\n",
    "from numpy import *\n",
    "print(sum(range(5),-1))    # now its np.sum  and now -1 is treated as axis so it does sum on last axis -> 10\n",
    "```"
   ]
  },
  {
   "cell_type": "code",
   "execution_count": null,
   "id": "1c55040f",
   "metadata": {},
   "outputs": [],
   "source": [
    "import numpy as np\n",
    "print(sum(range(5), -1))  # built-in sum\n",
    "print(np.sum(range(5), -1))  # numpy sum with axis"
   ]
  },
  {
   "cell_type": "markdown",
   "id": "60e2d14c",
   "metadata": {},
   "source": [
    "#### 27. Consider an integer vector Z, which of these expressions are legal? (★☆☆)\n",
    "```python\n",
    "Z**Z\n",
    "2 << Z >> 2\n",
    "Z <- Z\n",
    "1j*Z\n",
    "Z/1/1\n",
    "Z<Z>Z\n",
    "```"
   ]
  },
  {
   "cell_type": "markdown",
   "id": "cb463c42",
   "metadata": {},
   "source": [
    "```python\n",
    "Z**Z                   # element wise exponentiation\n",
    "2 << Z >> 2            # bitwise shift operators\n",
    "Z <- Z                 # z < (-z) element wise comparison \n",
    "1j*Z                   # 1j imaginary * z \n",
    "Z/1/1                  # divison chain \n",
    "Z<Z>Z                  # ambigious **illegal**\n",
    "```"
   ]
  },
  {
   "cell_type": "code",
   "execution_count": 63,
   "id": "a978aca4",
   "metadata": {},
   "outputs": [
    {
     "name": "stdout",
     "output_type": "stream",
     "text": [
      "[     1      4     27    256   3125 -18880 -28425      0 -28343  -7168]\n",
      "[  1   2   4   8  16  32  64 128 256 512]\n",
      "[False False False False False False False False False False]\n",
      "[0. +1.j 0. +2.j 0. +3.j 0. +4.j 0. +5.j 0. +6.j 0. +7.j 0. +8.j 0. +9.j\n",
      " 0.+10.j]\n",
      "[ 1.  2.  3.  4.  5.  6.  7.  8.  9. 10.]\n"
     ]
    }
   ],
   "source": [
    "z = np.arange(1, 11, dtype=np.int16)\n",
    "print(z**z)                   # element wise exponentiation\n",
    "print(2 << z >> 2)            # bitwise shift operators\n",
    "print(z < -z)                 # z < (-z) element wise comparison\n",
    "print(1j * z)                 # 1j imaginary * z\n",
    "print(z / 1 / 1)              # division chain\n"
   ]
  },
  {
   "cell_type": "markdown",
   "id": "aa45d8b5",
   "metadata": {},
   "source": [
    "#### 28. What are the result of the following expressions? (★☆☆)\n",
    "```python\n",
    "np.array(0) / np.array(0)                           # divide by zero warning\n",
    "np.array(0) // np.array(0)                          # divide by zero floor divide\n",
    "np.array([np.nan]).astype(int).astype(float)        # error casting np.nan to int \n",
    "```"
   ]
  },
  {
   "cell_type": "markdown",
   "id": "0b6acccc",
   "metadata": {},
   "source": [
    "#### 29. How to round away from zero a float array ? (★☆☆)"
   ]
  },
  {
   "cell_type": "code",
   "execution_count": 83,
   "id": "f0d27652",
   "metadata": {},
   "outputs": [
    {
     "name": "stdout",
     "output_type": "stream",
     "text": [
      "[ 6.18708419  7.27391596 -0.83479378  0.58926523 -0.04869601] [ 7.  8. -1.  1. -1.]\n"
     ]
    }
   ],
   "source": [
    "z = np.random.uniform(-1,1,5)*10\n",
    "y = np.copysign(np.ceil(np.abs(z)), z)\n",
    "print(z, y)"
   ]
  },
  {
   "cell_type": "markdown",
   "id": "87fb3166",
   "metadata": {},
   "source": [
    "#### 30. How to find common values between two arrays? (★☆☆)"
   ]
  },
  {
   "cell_type": "code",
   "execution_count": 93,
   "id": "e76b28fc",
   "metadata": {},
   "outputs": [
    {
     "name": "stdout",
     "output_type": "stream",
     "text": [
      "[1 3 6 9]\n",
      "[6 1 3 9 9 1 1]\n"
     ]
    }
   ],
   "source": [
    "a = np.random.randint(0,10,(10,1))\n",
    "b = np.random.randint(0,10,(10,1))\n",
    "# common values\n",
    "common_values = np.intersect1d(a, b) # sorts the values may be unnecessary\n",
    "print(common_values)\n",
    "\n",
    "# method 2 using mask, not unique values\n",
    "mask = np.isin(a, b)\n",
    "common_values_mask = a[mask]\n",
    "print(common_values_mask)"
   ]
  },
  {
   "cell_type": "markdown",
   "id": "7182fca7",
   "metadata": {},
   "source": [
    "#### 31. How to ignore all numpy warnings (not recommended)? (★☆☆)"
   ]
  },
  {
   "cell_type": "code",
   "execution_count": 94,
   "id": "652def1c",
   "metadata": {},
   "outputs": [
    {
     "data": {
      "text/plain": [
       "{'divide': 'ignore', 'over': 'ignore', 'under': 'ignore', 'invalid': 'ignore'}"
      ]
     },
     "execution_count": 94,
     "metadata": {},
     "output_type": "execute_result"
    }
   ],
   "source": [
    "# ignore \n",
    "default = np.seterr(all='ignore')  # ignore all numpy warnings\n",
    "# restore to default\n",
    "np.seterr(**default)  # restore to default warnings"
   ]
  },
  {
   "cell_type": "markdown",
   "id": "115e0e2a",
   "metadata": {},
   "source": [
    "#### 32. Is the following expressions true? (★☆☆)\n",
    "```python\n",
    "np.sqrt(-1) == np.emath.sqrt(-1)\n",
    "```\n",
    "\n",
    "```python\n",
    "np.sqrt(-1)  # doesnt support imaginary number, will raise warning\n",
    "```\n",
    "```python\n",
    "np.emath.sqrt(-1)  # handles imaginary number\n",
    "```\n",
    "\n",
    "returns false"
   ]
  },
  {
   "cell_type": "markdown",
   "id": "96c9777e",
   "metadata": {},
   "source": [
    "#### 33. How to get the dates of yesterday, today and tomorrow? (★☆☆)"
   ]
  },
  {
   "cell_type": "code",
   "execution_count": 97,
   "id": "fc0f2ec9",
   "metadata": {},
   "outputs": [
    {
     "name": "stdout",
     "output_type": "stream",
     "text": [
      "2025-07-21 2025-07-20 2025-07-22\n"
     ]
    }
   ],
   "source": [
    "today_date = np.datetime64('today', 'D')\n",
    "yesterday_date = today_date - np.timedelta64(1, 'D')\n",
    "tomorrow_date = today_date + np.timedelta64(1, 'D')\n",
    "print(today_date, yesterday_date, tomorrow_date)"
   ]
  },
  {
   "cell_type": "markdown",
   "id": "85237768",
   "metadata": {},
   "source": [
    "#### 34. How to get all the dates corresponding to the month of July 2016? (★★☆)"
   ]
  },
  {
   "cell_type": "code",
   "execution_count": 98,
   "id": "baf7883b",
   "metadata": {},
   "outputs": [
    {
     "name": "stdout",
     "output_type": "stream",
     "text": [
      "['2016-07-01' '2016-07-02' '2016-07-03' '2016-07-04' '2016-07-05'\n",
      " '2016-07-06' '2016-07-07' '2016-07-08' '2016-07-09' '2016-07-10'\n",
      " '2016-07-11' '2016-07-12' '2016-07-13' '2016-07-14' '2016-07-15'\n",
      " '2016-07-16' '2016-07-17' '2016-07-18' '2016-07-19' '2016-07-20'\n",
      " '2016-07-21' '2016-07-22' '2016-07-23' '2016-07-24' '2016-07-25'\n",
      " '2016-07-26' '2016-07-27' '2016-07-28' '2016-07-29' '2016-07-30'\n",
      " '2016-07-31']\n"
     ]
    }
   ],
   "source": [
    "Z = np.arange('2016-07', '2016-08', dtype='datetime64[D]')\n",
    "print(Z)"
   ]
  },
  {
   "cell_type": "markdown",
   "id": "7873c566",
   "metadata": {},
   "source": [
    "#### 35. How to compute ((A+B)*(-A/2)) in place (without copy)? (★★☆)"
   ]
  },
  {
   "cell_type": "code",
   "execution_count": 100,
   "id": "a454d2c4",
   "metadata": {},
   "outputs": [
    {
     "data": {
      "text/plain": [
       "array([[-0.39553782, -0.3323637 , -0.18729776],\n",
       "       [-0.43812603, -0.02131296, -0.42939437],\n",
       "       [-0.19616611, -0.83488692, -0.04872797]])"
      ]
     },
     "execution_count": 100,
     "metadata": {},
     "output_type": "execute_result"
    }
   ],
   "source": [
    "A = np.random.random((3,3))\n",
    "B = np.random.random((3,3))\n",
    "# B = A+B\n",
    "np.add(A,B,out=B)\n",
    "# A = A/2\n",
    "np.divide(A,2,out=A)\n",
    "# A = -A\n",
    "np.negative(A,out=A)\n",
    "# A = A*B\n",
    "np.multiply(A,B,out=A)"
   ]
  },
  {
   "cell_type": "markdown",
   "id": "f4f87f16",
   "metadata": {},
   "source": [
    "#### 36. Extract the integer part of a random array of positive numbers using 4 different methods (★★☆)"
   ]
  },
  {
   "cell_type": "code",
   "execution_count": 102,
   "id": "11fd9724",
   "metadata": {},
   "outputs": [
    {
     "name": "stdout",
     "output_type": "stream",
     "text": [
      "[0. 6. 2. 3. 5.]\n",
      "[0. 6. 2. 3. 5.]\n",
      "[0 6 2 3 5]\n",
      "[0. 6. 2. 3. 5.]\n"
     ]
    }
   ],
   "source": [
    "Z = np.random.uniform(0,10,5)\n",
    "print(np.floor(Z))\n",
    "print(Z // 1)\n",
    "print(Z.astype(int))\n",
    "print(np.trunc(Z))"
   ]
  },
  {
   "cell_type": "markdown",
   "id": "c8c3ac99",
   "metadata": {},
   "source": [
    "#### 37. Create a 5x5 matrix with row values ranging from 0 to 4 (★★☆)"
   ]
  },
  {
   "cell_type": "code",
   "execution_count": 105,
   "id": "be466890",
   "metadata": {},
   "outputs": [
    {
     "data": {
      "text/plain": [
       "array([[0, 1, 2, 3, 4],\n",
       "       [0, 1, 2, 3, 4],\n",
       "       [0, 1, 2, 3, 4],\n",
       "       [0, 1, 2, 3, 4],\n",
       "       [0, 1, 2, 3, 4]])"
      ]
     },
     "execution_count": 105,
     "metadata": {},
     "output_type": "execute_result"
    }
   ],
   "source": [
    "np.tile(np.arange(5), (5,1))"
   ]
  },
  {
   "cell_type": "markdown",
   "id": "f8a91990",
   "metadata": {},
   "source": [
    "#### 38. Consider a generator function that generates 10 integers and use it to build an array (★☆☆)"
   ]
  },
  {
   "cell_type": "code",
   "execution_count": 107,
   "id": "58568088",
   "metadata": {},
   "outputs": [
    {
     "data": {
      "text/plain": [
       "array([0, 1, 2, 3, 4, 5, 6, 7, 8, 9])"
      ]
     },
     "execution_count": 107,
     "metadata": {},
     "output_type": "execute_result"
    }
   ],
   "source": [
    "def gen():\n",
    "    yield from np.arange(10) \n",
    "np.fromiter(gen(), dtype=int, count=-1)"
   ]
  },
  {
   "cell_type": "markdown",
   "id": "a4a6c98c",
   "metadata": {},
   "source": [
    "#### 39. Create a vector of size 10 with values ranging from 0 to 1, both excluded (★★☆)"
   ]
  },
  {
   "cell_type": "code",
   "execution_count": 112,
   "id": "4faf8ebb",
   "metadata": {},
   "outputs": [
    {
     "data": {
      "text/plain": [
       "array([0. , 0.1, 0.2, 0.3, 0.4, 0.5, 0.6, 0.7, 0.8, 0.9])"
      ]
     },
     "execution_count": 112,
     "metadata": {},
     "output_type": "execute_result"
    }
   ],
   "source": [
    "a = np.linspace(0, 1, num=10, endpoint=False)\n",
    "a"
   ]
  },
  {
   "cell_type": "markdown",
   "id": "76b7ccb5",
   "metadata": {},
   "source": [
    "#### 40. Create a random vector of size 10 and sort it (★★☆)"
   ]
  },
  {
   "cell_type": "code",
   "execution_count": 115,
   "id": "03f7e0a0",
   "metadata": {},
   "outputs": [
    {
     "name": "stdout",
     "output_type": "stream",
     "text": [
      "[0.03255752 0.10906304 0.21653065 0.30196603 0.50033718 0.5303367\n",
      " 0.81673889 0.83228644 0.83605798 0.99368866]\n"
     ]
    }
   ],
   "source": [
    "a = np.random.random(10)\n",
    "a.sort()\n",
    "print(a)"
   ]
  },
  {
   "cell_type": "markdown",
   "id": "f1d3571d",
   "metadata": {},
   "source": [
    "#### 41. How to sum a small array faster than np.sum? (★★☆)"
   ]
  },
  {
   "cell_type": "code",
   "execution_count": 117,
   "id": "6a9e7a0f",
   "metadata": {},
   "outputs": [
    {
     "data": {
      "text/plain": [
       "np.int64(5)"
      ]
     },
     "execution_count": 117,
     "metadata": {},
     "output_type": "execute_result"
    }
   ],
   "source": [
    "np.add.reduce(np.ones(5, dtype=int))  # sum of ones"
   ]
  },
  {
   "cell_type": "markdown",
   "id": "5f2e7f1d",
   "metadata": {},
   "source": [
    "#### 42. Consider two random arrays A and B, check if they are equal (★★☆)"
   ]
  },
  {
   "cell_type": "code",
   "execution_count": 119,
   "id": "fea071d5",
   "metadata": {},
   "outputs": [
    {
     "name": "stdout",
     "output_type": "stream",
     "text": [
      "False\n",
      "False\n"
     ]
    }
   ],
   "source": [
    "a = np.random.random(10)\n",
    "b = np.random.random(10)\n",
    "\n",
    "print(np.allclose(a, b))  # check if two arrays are element-wise equal within a tolerance\n",
    "print(np.array_equal(a, b))  # check if two arrays are exactly equal\n"
   ]
  },
  {
   "cell_type": "markdown",
   "id": "25089569",
   "metadata": {},
   "source": [
    "#### 43. Make an array immutable (read-only) (★★☆)"
   ]
  },
  {
   "cell_type": "code",
   "execution_count": 122,
   "id": "b39c64fd",
   "metadata": {},
   "outputs": [
    {
     "name": "stdout",
     "output_type": "stream",
     "text": [
      "False\n"
     ]
    },
    {
     "ename": "ValueError",
     "evalue": "assignment destination is read-only",
     "output_type": "error",
     "traceback": [
      "\u001b[31m---------------------------------------------------------------------------\u001b[39m",
      "\u001b[31mValueError\u001b[39m                                Traceback (most recent call last)",
      "\u001b[36mCell\u001b[39m\u001b[36m \u001b[39m\u001b[32mIn[122]\u001b[39m\u001b[32m, line 4\u001b[39m\n\u001b[32m      2\u001b[39m a.flags.writeable = \u001b[38;5;28;01mFalse\u001b[39;00m  \u001b[38;5;66;03m# make the array read-only\u001b[39;00m\n\u001b[32m      3\u001b[39m \u001b[38;5;28mprint\u001b[39m(a.flags.writeable)  \u001b[38;5;66;03m# check if the array is writable\u001b[39;00m\n\u001b[32m----> \u001b[39m\u001b[32m4\u001b[39m \u001b[43ma\u001b[49m\u001b[43m[\u001b[49m\u001b[32;43m1\u001b[39;49m\u001b[43m]\u001b[49m = \u001b[32m2\u001b[39m  \u001b[38;5;66;03m# this will raise an error since the array is read-only   \u001b[39;00m\n",
      "\u001b[31mValueError\u001b[39m: assignment destination is read-only"
     ]
    }
   ],
   "source": [
    "a = np.ones(10, dtype=int)\n",
    "a.flags.writeable = False  # make the array read-only\n",
    "print(a.flags.writeable)  # check if the array is writable\n",
    "a[1] = 2  # this will raise an error since the array is read-only   "
   ]
  },
  {
   "cell_type": "markdown",
   "id": "8e0a92a1",
   "metadata": {},
   "source": [
    "#### 44. Consider a random 10x2 matrix representing cartesian coordinates, convert them to polar coordinates (★★☆)"
   ]
  },
  {
   "cell_type": "code",
   "execution_count": 124,
   "id": "5dbb04dc",
   "metadata": {},
   "outputs": [],
   "source": [
    "cartesian_cords = np.random.rand(10,2)\n",
    "# cartesian to polar conversion\n",
    "polar_cords = np.zeros(cartesian_cords.shape)\n",
    "polar_cords[:, 0] = np.sqrt(cartesian_cords[:, 0]**2 + cartesian_cords[:, 1]**2)  # radius\n",
    "polar_cords[:, 1] = np.arctan2(cartesian_cords[:, 1], cartesian_cords[:, 0])  # angle"
   ]
  },
  {
   "cell_type": "markdown",
   "id": "be171fc3",
   "metadata": {},
   "source": [
    "#### 45. Create random vector of size 10 and replace the maximum value by 0 (★★☆)"
   ]
  },
  {
   "cell_type": "code",
   "execution_count": 128,
   "id": "29050d57",
   "metadata": {},
   "outputs": [
    {
     "data": {
      "text/plain": [
       "array([0.29848266, 0.41436064, 0.1041403 , 0.93416467, 0.        ,\n",
       "       0.40387434, 0.69993171, 0.51042303, 0.40583321, 0.64424768])"
      ]
     },
     "execution_count": 128,
     "metadata": {},
     "output_type": "execute_result"
    }
   ],
   "source": [
    "a = np.random.rand(10)\n",
    "a[a.argmax()] = 0.0  # set max value to zero\n",
    "a"
   ]
  },
  {
   "cell_type": "markdown",
   "id": "ec8169df",
   "metadata": {},
   "source": [
    "#### 46. Create a structured array with `x` and `y` coordinates covering the [0,1]x[0,1] area (★★☆)"
   ]
  },
  {
   "cell_type": "code",
   "execution_count": 143,
   "id": "e1d5811b",
   "metadata": {},
   "outputs": [
    {
     "name": "stdout",
     "output_type": "stream",
     "text": [
      "[[(0.  , 0.  ) (0.25, 0.  ) (0.5 , 0.  ) (0.75, 0.  ) (1.  , 0.  )]\n",
      " [(0.  , 0.25) (0.25, 0.25) (0.5 , 0.25) (0.75, 0.25) (1.  , 0.25)]\n",
      " [(0.  , 0.5 ) (0.25, 0.5 ) (0.5 , 0.5 ) (0.75, 0.5 ) (1.  , 0.5 )]\n",
      " [(0.  , 0.75) (0.25, 0.75) (0.5 , 0.75) (0.75, 0.75) (1.  , 0.75)]\n",
      " [(0.  , 1.  ) (0.25, 1.  ) (0.5 , 1.  ) (0.75, 1.  ) (1.  , 1.  )]]\n"
     ]
    }
   ],
   "source": [
    "n = 5\n",
    "xy = np.zeros((n,n), [('x',float),('y',float)])\n",
    "xy['x'], xy['y'] = np.meshgrid(np.linspace(0, 1, n), np.linspace(0, 1, n))\n",
    "print(xy)"
   ]
  },
  {
   "cell_type": "markdown",
   "id": "6edcee5a",
   "metadata": {},
   "source": [
    "#### 47. Given two arrays, X and Y, construct the Cauchy matrix $C(C_{ij} =1/(x_i - y_j))$ (★★☆)"
   ]
  },
  {
   "cell_type": "code",
   "execution_count": 156,
   "id": "72ce5000",
   "metadata": {},
   "outputs": [],
   "source": [
    "X = np.random.random(size=(5,))\n",
    "Y = np.random.random(size=(5,))\n",
    "# cauchy matrix\n",
    "C = 1.0 / np.subtract.outer(X, Y)"
   ]
  },
  {
   "cell_type": "markdown",
   "id": "e792c9d8",
   "metadata": {},
   "source": [
    "#### 48. Print the minimum and maximum representable values for each numpy scalar type (★★☆)"
   ]
  },
  {
   "cell_type": "code",
   "execution_count": 168,
   "id": "57f92e12",
   "metadata": {},
   "outputs": [
    {
     "name": "stdout",
     "output_type": "stream",
     "text": [
      " dtype: <class 'numpy.int8'>, min: -128, max: 127\n",
      " dtype: <class 'numpy.int32'>, min: -2147483648, max: 2147483647\n",
      " dtype: <class 'numpy.int64'>, min: -9223372036854775808, max: 9223372036854775807\n",
      " dtype: <class 'numpy.float32'>, min: -3.4028234663852886e+38, max: 3.4028234663852886e+38, eps: 1.1920928955078125e-07\n",
      " dtype: <class 'numpy.float64'>, min: -1.7976931348623157e+308, max: 1.7976931348623157e+308, eps: 2.220446049250313e-16\n"
     ]
    }
   ],
   "source": [
    "for dtype in [np.int8, np.int32, np.int64]:\n",
    "   print(f\" dtype: {dtype}, min: {np.iinfo(dtype).min}, max: {np.iinfo(dtype).max}\")\n",
    "for dtype in [np.float32, np.float64]:\n",
    "   print(f\" dtype: {dtype}, min: {np.finfo(dtype).min}, max: {np.finfo(dtype).max}, eps: {np.finfo(dtype).eps}\")\n"
   ]
  },
  {
   "cell_type": "markdown",
   "id": "eca7651c",
   "metadata": {},
   "source": [
    "#### 49. How to print all the values of an array? (★★☆)"
   ]
  },
  {
   "cell_type": "code",
   "execution_count": 170,
   "id": "9fea21ff",
   "metadata": {},
   "outputs": [
    {
     "name": "stdout",
     "output_type": "stream",
     "text": [
      "[0.81728572 0.37253432 0.94299135 0.77414221]\n"
     ]
    }
   ],
   "source": [
    "np.set_printoptions(threshold=float(\"inf\"))\n",
    "print(np.random.rand(4))"
   ]
  },
  {
   "cell_type": "markdown",
   "id": "b2527d57",
   "metadata": {},
   "source": [
    "#### 50. How to find the closest value (to a given scalar) in a vector? (★★☆)"
   ]
  },
  {
   "cell_type": "code",
   "execution_count": 174,
   "id": "1f94b185",
   "metadata": {},
   "outputs": [
    {
     "name": "stdout",
     "output_type": "stream",
     "text": [
      "[1.50283137 1.31802349 0.69064262 4.92605031 9.55590659 0.2137018\n",
      " 1.52764748 4.12968314 9.30992252 5.03930119]\n",
      "Index of closest value to mean 3.8213710512421373: Index: 7, Value: 4.129683140887964\n"
     ]
    }
   ],
   "source": [
    "a = np.random.rand(10)*10\n",
    "print(a)\n",
    "# lets say finding the closest value to mean\n",
    "idx = np.abs(a - a.mean()).argmin()\n",
    "print(f\"Index of closest value to mean {a.mean()}: Index: {idx}, Value: {a[idx]}\")"
   ]
  },
  {
   "cell_type": "markdown",
   "id": "42580cd7",
   "metadata": {},
   "source": [
    "#### 51. Create a structured array representing a position (x,y) and a color (r,g,b) (★★☆)"
   ]
  },
  {
   "cell_type": "code",
   "execution_count": 178,
   "id": "c280e178",
   "metadata": {},
   "outputs": [
    {
     "name": "stdout",
     "output_type": "stream",
     "text": [
      "[(([0.25346929], [0.25343561]), ([-0.09115028], [-0.20955989], [-0.09292646]))\n",
      " (([0.39765029], [0.3976166 ]), ([ 0.05303072], [-0.0653789 ], [ 0.05125453]))\n",
      " (([0.09188383], [0.09185015]), ([-0.25273574], [-0.37114535], [-0.25451192]))\n",
      " (([0.42793175], [0.42789807]), ([ 0.08331218], [-0.03509743], [ 0.081536  ]))\n",
      " (([0.59160666], [0.59157298]), ([ 0.24698709], [ 0.12857748], [ 0.24521091]))]\n"
     ]
    }
   ],
   "source": [
    "a = np.empty(5, [('pos', [ ('x', float, 1), ('y', float, 1)]),\n",
    "                 ('color', [('r', float, 1),\n",
    "                            ('g', float, 1),\n",
    "                            ('b', float, 1)])])\n",
    "print(a)"
   ]
  },
  {
   "cell_type": "markdown",
   "id": "7e23ffda",
   "metadata": {},
   "source": [
    "#### 52. Consider a random vector with shape (100,2) representing coordinates, find point by point distances (★★☆)"
   ]
  },
  {
   "cell_type": "code",
   "execution_count": null,
   "id": "9d07ad1d",
   "metadata": {},
   "outputs": [
    {
     "name": "stdout",
     "output_type": "stream",
     "text": [
      "(100, 100)\n"
     ]
    }
   ],
   "source": [
    "a = np.random.rand(100,2)\n",
    "# point by point distance, l2 norm\n",
    "diff = a[:, np.newaxis, :] - a[np.newaxis, :, :]\n",
    "distances = np.sqrt(np.sum(diff**2, axis=-1))\n",
    "print(distances.shape)"
   ]
  },
  {
   "cell_type": "markdown",
   "id": "8a2a9157",
   "metadata": {},
   "source": [
    "#### 53. How to convert a float (32 bits) array into an integer (32 bits) array in place?"
   ]
  },
  {
   "cell_type": "code",
   "execution_count": 183,
   "id": "4ffd9601",
   "metadata": {},
   "outputs": [
    {
     "data": {
      "text/plain": [
       "array([0, 1, 2, 3, 4, 5, 6, 7, 8, 9], dtype=int32)"
      ]
     },
     "execution_count": 183,
     "metadata": {},
     "output_type": "execute_result"
    }
   ],
   "source": [
    "a = np.arange(10, dtype=np.float32)\n",
    "b = a.view(np.int32)\n",
    "b[:]=a\n",
    "b"
   ]
  },
  {
   "cell_type": "markdown",
   "id": "10b38393",
   "metadata": {},
   "source": [
    "#### 54. How to read the following file? (★★☆)\n",
    "```\n",
    "1, 2, 3, 4, 5\n",
    "6,  ,  , 7, 8\n",
    " ,  , 9,10,11\n",
    "```"
   ]
  },
  {
   "cell_type": "code",
   "execution_count": 184,
   "id": "29f152f2",
   "metadata": {},
   "outputs": [
    {
     "name": "stdout",
     "output_type": "stream",
     "text": [
      "[[ 1.  2.  3.  4.  5.]\n",
      " [ 6. nan nan  7.  8.]\n",
      " [nan nan  9. 10. 11.]]\n"
     ]
    }
   ],
   "source": [
    "import io\n",
    "# Simulated file content as a string\n",
    "file_content = \"\"\"\\\n",
    "1, 2, 3, 4, 5\n",
    "6,  ,  , 7, 8\n",
    " ,  , 9,10,11\n",
    "\"\"\"\n",
    "\n",
    "# Create a file-like object from the string\n",
    "fake_file = io.StringIO(file_content)\n",
    "\n",
    "# Use genfromtxt to read it\n",
    "data = np.genfromtxt(fake_file, delimiter=\",\", dtype=float)\n",
    "\n",
    "print(data)"
   ]
  },
  {
   "cell_type": "markdown",
   "id": "72ac7927",
   "metadata": {},
   "source": [
    "#### 55. What is the equivalent of enumerate for numpy arrays? (★★☆)"
   ]
  },
  {
   "cell_type": "code",
   "execution_count": 185,
   "id": "3de613a5",
   "metadata": {},
   "outputs": [
    {
     "name": "stdout",
     "output_type": "stream",
     "text": [
      "Index: (0,), Value: -3.156889993425074\n",
      "Index: (1,), Value: -8.893282209094547\n",
      "Index: (2,), Value: 7.675711244381951\n",
      "Index: (3,), Value: -1.2313109629290642\n",
      "Index: (4,), Value: 9.126171843143414\n"
     ]
    }
   ],
   "source": [
    "z = np.random.uniform(-1,1,5)*10\n",
    "for i, v in np.ndenumerate(z):\n",
    "    print(f\"Index: {i}, Value: {v}\")"
   ]
  },
  {
   "cell_type": "markdown",
   "id": "db66e31f",
   "metadata": {},
   "source": [
    "#### 56. Generate a generic 2D Gaussian-like array (★★☆)"
   ]
  },
  {
   "cell_type": "code",
   "execution_count": null,
   "id": "60673f97",
   "metadata": {},
   "outputs": [
    {
     "data": {
      "text/plain": [
       "<matplotlib.image.AxesImage at 0x1b94ab242f0>"
      ]
     },
     "execution_count": 189,
     "metadata": {},
     "output_type": "execute_result"
    },
    {
     "data": {
      "image/png": "[encoded data removed]",
      "text/plain": [
       "<Figure size 640x480 with 1 Axes>"
      ]
     },
     "metadata": {},
     "output_type": "display_data"
    }
   ],
   "source": [
    "# 2d gaussian array\n",
    "n=10\n",
    "sigma = 2.0\n",
    "\n",
    "x,y = np.meshgrid(np.linspace(-1, 1, n), np.linspace(-1, 1, n))\n",
    "# 2d gaussian function\n",
    "z = np.exp(-(x**2 + y**2) / (2 * sigma**2))\n",
    "\n",
    "import matplotlib.pyplot as plt\n",
    "plt.imshow(z, cmap='hot', interpolation='nearest')\n"
   ]
  },
  {
   "cell_type": "markdown",
   "id": "6997c220",
   "metadata": {},
   "source": [
    "#### 57. How to randomly place p elements in a 2D array? (★★☆)"
   ]
  },
  {
   "cell_type": "code",
   "execution_count": 191,
   "id": "81ac5c03",
   "metadata": {},
   "outputs": [
    {
     "name": "stdout",
     "output_type": "stream",
     "text": [
      "[[0. 1. 0. 1.]\n",
      " [0. 1. 0. 0.]\n",
      " [1. 0. 0. 0.]\n",
      " [0. 0. 1. 0.]]\n"
     ]
    }
   ],
   "source": [
    "z = np.zeros((4,4))\n",
    "# randomly set some elements to 1\n",
    "np.put(z, np.random.choice(z.size, size=5, replace=False), 1)\n",
    "print(z)"
   ]
  },
  {
   "cell_type": "markdown",
   "id": "c168fd87",
   "metadata": {},
   "source": [
    "#### 58. Subtract the mean of each row of a matrix (★★☆)"
   ]
  },
  {
   "cell_type": "code",
   "execution_count": 194,
   "id": "4158b357",
   "metadata": {},
   "outputs": [
    {
     "name": "stdout",
     "output_type": "stream",
     "text": [
      "(10, 2)\n"
     ]
    }
   ],
   "source": [
    "a = np.random.rand(10,2)*10\n",
    "# subtract mean \n",
    "b = a - a.mean(axis=-1, keepdims=True)\n",
    "print(b.shape)"
   ]
  },
  {
   "cell_type": "markdown",
   "id": "f74204b8",
   "metadata": {},
   "source": [
    "#### 59. How to sort an array by the nth column? (★★☆)"
   ]
  },
  {
   "cell_type": "code",
   "execution_count": 198,
   "id": "665d7fb2",
   "metadata": {},
   "outputs": [
    {
     "name": "stdout",
     "output_type": "stream",
     "text": [
      "[[7.48532302 4.88806877 1.17935379 1.65597472 3.29635598]\n",
      " [5.82902396 2.17931484 3.13171331 8.19313896 8.93065849]\n",
      " [7.54420322 5.84211589 3.65567845 0.68323323 2.59265912]\n",
      " [0.37011616 4.7775485  6.41848432 0.09069375 6.89292009]\n",
      " [1.59249935 1.0474341  7.52142399 2.43010281 2.06967052]]\n"
     ]
    }
   ],
   "source": [
    "a = np.random.rand(5,5)*10\n",
    "k =2 # sort by column k\n",
    "sorted_a = a[a[:, k].argsort()]\n",
    "print(sorted_a)\n"
   ]
  },
  {
   "cell_type": "markdown",
   "id": "26b46ba2",
   "metadata": {},
   "source": [
    "#### 60. How to tell if a given 2D array has null columns? (★★☆)"
   ]
  },
  {
   "cell_type": "code",
   "execution_count": null,
   "id": "0420e879",
   "metadata": {},
   "outputs": [
    {
     "name": "stdout",
     "output_type": "stream",
     "text": [
      "Null columns mask: [ True False  True]\n",
      "Any null columns? True\n"
     ]
    }
   ],
   "source": []
  },
  {
   "cell_type": "markdown",
   "id": "a7c73eaf",
   "metadata": {},
   "source": [
    "#### 61. Find the nearest value from a given value in an array (★★☆)"
   ]
  },
  {
   "cell_type": "code",
   "execution_count": null,
   "id": "e00ee9c8",
   "metadata": {},
   "outputs": [],
   "source": [
    "# Example array with 0s, NaNs, and values\n",
    "A = np.array([\n",
    "    [0,   1,  np.nan],\n",
    "    [0,   2,  np.nan],\n",
    "    [0,   3,  np.nan]\n",
    "])\n",
    "\n",
    "# Boolean mask: True where element is 0 or NaN\n",
    "is_null_element = (A == 0) | np.isnan(A)\n",
    "\n",
    "# Check if **all elements** in a column are 0 or NaN\n",
    "null_columns = np.all(is_null_element, axis=0)\n",
    "\n",
    "print(\"Null columns mask:\", null_columns)\n",
    "print(\"Any null columns?\", np.any(null_columns))\n"
   ]
  },
  {
   "cell_type": "markdown",
   "id": "016f9f8f",
   "metadata": {},
   "source": [
    "#### 62. Considering two arrays with shape (1,3) and (3,1), how to compute their sum using an iterator? (★★☆)"
   ]
  },
  {
   "cell_type": "code",
   "execution_count": 205,
   "id": "5d73e1b3",
   "metadata": {},
   "outputs": [
    {
     "name": "stdout",
     "output_type": "stream",
     "text": [
      "[[0 1 2]\n",
      " [1 2 3]\n",
      " [2 3 4]]\n"
     ]
    }
   ],
   "source": [
    "A = np.arange(3).reshape(3,1)\n",
    "B = np.arange(3).reshape(1,3)\n",
    "it = np.nditer([A,B,None])\n",
    "for x,y,z in it: \n",
    "    z[...] = x + y\n",
    "res = it.operands[2]\n",
    "print(res)"
   ]
  },
  {
   "cell_type": "markdown",
   "id": "5d04eec4",
   "metadata": {},
   "source": [
    "#### 63. Create an array class that has a name attribute (★★☆)"
   ]
  },
  {
   "cell_type": "code",
   "execution_count": 207,
   "id": "ddb2a215",
   "metadata": {},
   "outputs": [
    {
     "name": "stdout",
     "output_type": "stream",
     "text": [
      "my_array\n",
      "[1 2 3]\n"
     ]
    }
   ],
   "source": [
    "class NamedArray(np.ndarray):\n",
    "    def __new__(cls, input_array, name=None):\n",
    "        obj = np.asarray(input_array).view(cls)\n",
    "        obj.name = name\n",
    "        return obj\n",
    "\n",
    "    def __array_finalize__(self, obj):\n",
    "        if obj is None: return\n",
    "        self.name = getattr(obj, 'name', None)\n",
    "\n",
    "arr = NamedArray(np.array([1, 2, 3]), name='my_array')\n",
    "print(arr.name)  # Output: my_array\n",
    "print(arr)  # Output: [1 2 3]"
   ]
  },
  {
   "cell_type": "markdown",
   "id": "9efcd2a7",
   "metadata": {},
   "source": [
    "#### 64. Consider a given vector, how to add 1 to each element indexed by a second vector (be careful with repeated indices)? (★★★)"
   ]
  },
  {
   "cell_type": "code",
   "execution_count": null,
   "id": "4ed538af",
   "metadata": {},
   "outputs": [
    {
     "name": "stdout",
     "output_type": "stream",
     "text": [
      "[8 4 5 5 5 9 9 6 1 4 7 7 1 2 6 7 2 5 8 9]\n",
      "[ 0  3  4  3  6  9  8 10 10 12]\n"
     ]
    }
   ],
   "source": [
    "a = np.arange(10)\n",
    "b = np.random.randint(0, 10, size=20) \n",
    "np.add.at(a, b, 1)  # Increment elements of a at indices specified by b\n",
    "print(a)"
   ]
  },
  {
   "cell_type": "markdown",
   "id": "9215bb59",
   "metadata": {},
   "source": [
    "#### 65. How to accumulate elements of a vector (X) to an array (F) based on an index list (I)? (★★★)"
   ]
  },
  {
   "cell_type": "code",
   "execution_count": 213,
   "id": "74f5d129",
   "metadata": {},
   "outputs": [
    {
     "name": "stdout",
     "output_type": "stream",
     "text": [
      "[2. 8. 9. 7. 5. 0. 7. 0. 7.]\n"
     ]
    }
   ],
   "source": [
    "X = np.arange(10)\n",
    "I = np.random.randint(0, 10, size=X.size)\n",
    "F = np.bincount(I, X)  # Count occurrences of indices in I and sum corresponding values in X\n",
    "print(F)"
   ]
  },
  {
   "cell_type": "markdown",
   "id": "a0ea705d",
   "metadata": {},
   "source": [
    "#### 66. Considering a (w,h,3) image of (dtype=ubyte), compute the number of unique colors (★★☆)"
   ]
  },
  {
   "cell_type": "code",
   "execution_count": 217,
   "id": "6a800287",
   "metadata": {},
   "outputs": [
    {
     "name": "stdout",
     "output_type": "stream",
     "text": [
      "(9996,)\n"
     ]
    }
   ],
   "source": [
    "w,h = 100, 100\n",
    "# number of unique colours\n",
    "im = np.random.randint(0, 256, size=(w, h, 3), dtype=np.uint8)\n",
    "im = im.reshape(-1, 3)\n",
    "im_view = im.view([('', np.uint8)]*3)\n",
    "unique_colors = np.unique(im_view)\n",
    "print(unique_colors.shape)  # Number of unique colors"
   ]
  },
  {
   "cell_type": "markdown",
   "id": "39363678",
   "metadata": {},
   "source": [
    "#### 67. Considering a four dimensions array, how to get sum over the last two axis at once? (★★★)"
   ]
  },
  {
   "cell_type": "code",
   "execution_count": 218,
   "id": "f4102915",
   "metadata": {},
   "outputs": [
    {
     "name": "stdout",
     "output_type": "stream",
     "text": [
      "(2, 3)\n"
     ]
    }
   ],
   "source": [
    "a = np.random.random((2,3,4,5))\n",
    "# Sum over the last two axes\n",
    "res = np.sum(a, axis=(-2, -1))\n",
    "print(res.shape)  # Shape after summing over last two axes"
   ]
  },
  {
   "cell_type": "markdown",
   "id": "8d0566f6",
   "metadata": {},
   "source": [
    "#### 68. Considering a one-dimensional vector D, how to compute means of subsets of D using a vector S of same size describing subset  indices? (★★★)"
   ]
  },
  {
   "cell_type": "code",
   "execution_count": 220,
   "id": "b698d7c6",
   "metadata": {},
   "outputs": [
    {
     "name": "stdout",
     "output_type": "stream",
     "text": [
      "[0.41251939 0.45228527 0.5282322  0.95435077 0.27333343]\n"
     ]
    }
   ],
   "source": [
    "D = np.random.uniform(0, 1, 10)\n",
    "S = np.random.randint(0, 5, 10)\n",
    "sums = np.bincount(S,weights=D)\n",
    "counts = np.bincount(S)\n",
    "means = sums / counts\n",
    "print(means)  # Mean values for each unique index in S"
   ]
  },
  {
   "cell_type": "markdown",
   "id": "c5f95a28",
   "metadata": {},
   "source": [
    "#### 69. How to get the diagonal of a dot product? (★★★)"
   ]
  },
  {
   "cell_type": "code",
   "execution_count": 221,
   "id": "5ff048b9",
   "metadata": {},
   "outputs": [
    {
     "name": "stdout",
     "output_type": "stream",
     "text": [
      "[0.8627704  0.95825788 1.23121242 0.71777963]\n"
     ]
    }
   ],
   "source": [
    "a = np.random.rand(4,4)\n",
    "b = np.random.rand(4,4)\n",
    "diag = np.einsum('ij,ji->i', a, b)  # Matrix multiplication using einsum\n",
    "print(diag)  # Diagonal elements of the product of a and b"
   ]
  },
  {
   "cell_type": "markdown",
   "id": "9926d135",
   "metadata": {},
   "source": [
    "#### 70. Consider the vector [1, 2, 3, 4, 5], how to build a new vector with 3 consecutive zeros interleaved between each value? (★★★)"
   ]
  },
  {
   "cell_type": "code",
   "execution_count": 223,
   "id": "b3309bfc",
   "metadata": {},
   "outputs": [
    {
     "name": "stdout",
     "output_type": "stream",
     "text": [
      "[1 0 0 0 2 0 0 0 3 0 0 0 4 0 0 0 5]\n"
     ]
    }
   ],
   "source": [
    "a = np.arange(1,6)\n",
    "k=3\n",
    "n = len(a)+(len(a)-1)*k\n",
    "res = np.zeros(n, dtype=a.dtype)\n",
    "res[::k+1]=a\n",
    "print(res)"
   ]
  },
  {
   "cell_type": "markdown",
   "id": "77faa124",
   "metadata": {},
   "source": [
    "#### 71. Consider an array of dimension (5,5,3), how to multiply it by an array with dimensions (5,5)? (★★★)"
   ]
  },
  {
   "cell_type": "code",
   "execution_count": 226,
   "id": "f632f202",
   "metadata": {},
   "outputs": [
    {
     "name": "stdout",
     "output_type": "stream",
     "text": [
      "(5, 5, 3)\n"
     ]
    }
   ],
   "source": [
    "a = np.random.rand(5,5,3)\n",
    "b = np.random.rand(5,5)\n",
    "c = a * b[:,:,None]  # Broadcasting to multiply each channel\n",
    "print(c.shape)  # Shape after broadcasting multiplication"
   ]
  },
  {
   "cell_type": "markdown",
   "id": "56aa0c3d",
   "metadata": {},
   "source": [
    "#### 72. How to swap two rows of an array? (★★★)"
   ]
  },
  {
   "cell_type": "code",
   "execution_count": 228,
   "id": "efe16b12",
   "metadata": {},
   "outputs": [
    {
     "name": "stdout",
     "output_type": "stream",
     "text": [
      "[[0.54661479 0.7731678  0.63229981]\n",
      " [0.86698015 0.84968539 0.73228347]\n",
      " [0.98162458 0.52589735 0.80865546]]\n"
     ]
    }
   ],
   "source": [
    "a = np.random.rand(3,3)\n",
    "# swap two rows in a\n",
    "a[[0, 1]] = a[[1, 0]]  # Swap first two rows\n",
    "print(a)"
   ]
  },
  {
   "cell_type": "markdown",
   "id": "1068d7cd",
   "metadata": {},
   "source": [
    "#### 73. Consider a set of 10 triplets describing 10 triangles (with shared vertices), find the set of unique line segments composing all the  triangles (★★★)"
   ]
  },
  {
   "cell_type": "code",
   "execution_count": 230,
   "id": "e391b049",
   "metadata": {},
   "outputs": [
    {
     "name": "stdout",
     "output_type": "stream",
     "text": [
      "(24, 2)\n"
     ]
    }
   ],
   "source": [
    "triangles = np.random.randint(0,20, size=(10, 3))\n",
    "edges = np.vstack([triangles[:, [0, 1]],\n",
    "                   triangles[:, [1, 2]],\n",
    "                     triangles[:, [2, 0]]])\n",
    "# sort each edge so that its undirected\n",
    "edges = np.sort(edges, axis=1)\n",
    "unique_edges = np.unique(edges, axis=0)\n",
    "print(unique_edges.shape)  # Unique edges of the triangles"
   ]
  },
  {
   "cell_type": "markdown",
   "id": "bcc34f27",
   "metadata": {},
   "source": [
    "#### 74. Given a sorted array C that corresponds to a bincount, how to produce an array A such that np.bincount(A) == C? (★★★)"
   ]
  },
  {
   "cell_type": "code",
   "execution_count": 232,
   "id": "beb8e3e8",
   "metadata": {},
   "outputs": [
    {
     "name": "stdout",
     "output_type": "stream",
     "text": [
      "[ True  True  True  True]\n"
     ]
    }
   ],
   "source": [
    "C = np.bincount([2,0,3,1])\n",
    "A = np.repeat(np.arange(len(C)), C)\n",
    "print(np.bincount(A)==C)"
   ]
  },
  {
   "cell_type": "markdown",
   "id": "b365cc6c",
   "metadata": {},
   "source": [
    "#### 75. How to compute averages using a sliding window over an array? (★★★)"
   ]
  },
  {
   "cell_type": "code",
   "execution_count": 235,
   "id": "e0831ba1",
   "metadata": {},
   "outputs": [
    {
     "name": "stdout",
     "output_type": "stream",
     "text": [
      "[2. 3. 4. 5. 6. 7. 8. 9.]\n"
     ]
    }
   ],
   "source": [
    "a = np.arange(1,11)\n",
    "k = 3\n",
    "moving_avg = np.convolve(a, np.ones(k)/k, mode='valid')\n",
    "print(moving_avg)  # Moving average with window size k"
   ]
  },
  {
   "cell_type": "markdown",
   "id": "91c854ca",
   "metadata": {},
   "source": [
    "#### 76. Consider a one-dimensional array Z, build a two-dimensional array whose first row is (Z[0],Z[1],Z[2]) and each subsequent row is  shifted by 1 (last row should be (Z[-3],Z[-2],Z[-1]) (★★★)"
   ]
  },
  {
   "cell_type": "code",
   "execution_count": 237,
   "id": "1ac36aad",
   "metadata": {},
   "outputs": [
    {
     "name": "stdout",
     "output_type": "stream",
     "text": [
      "[[0 1 2]\n",
      " [1 2 3]\n",
      " [2 3 4]]\n"
     ]
    }
   ],
   "source": [
    "from numpy.lib.stride_tricks import as_strided\n",
    "a = np.arange(5)\n",
    "\n",
    "def sliding_window_view(arr, window=3):\n",
    "    shape = (arr.size - window + 1, window)\n",
    "    strides = (arr.strides[0], arr.strides[0])\n",
    "    return as_strided(arr, shape=shape, strides=strides)\n",
    "\n",
    "\n",
    "res = sliding_window_view(a, window=3)\n",
    "print(res)  # Sliding window view of the array with specified window size\n"
   ]
  },
  {
   "cell_type": "markdown",
   "id": "cbd50313",
   "metadata": {},
   "source": [
    "#### 77. How to negate a boolean, or to change the sign of a float inplace? (★★★)"
   ]
  },
  {
   "cell_type": "code",
   "execution_count": null,
   "id": "7c3b7ab3",
   "metadata": {},
   "outputs": [
    {
     "data": {
      "text/plain": [
       "array([ 0.64154551, -0.21592893, -0.1351837 ,  1.23221502,  0.86556559,\n",
       "        1.35338523, -0.4216715 , -0.59379622, -0.85460264,  1.16786855,\n",
       "       -0.54350931, -0.46192445, -0.13850437, -0.17577585, -1.52512124,\n",
       "       -0.24425582, -0.54105704,  0.75937772,  0.04797472, -1.90007146,\n",
       "        1.24068302, -0.29753675, -0.33354857, -0.62558492,  1.40389748,\n",
       "       -0.42442   ,  0.54910816, -0.99457257,  0.9073415 , -1.91198186,\n",
       "        1.02687643,  0.07900375,  0.03538838, -0.19890098, -0.1020952 ,\n",
       "       -1.1498574 , -0.82769954, -0.57377055, -1.38491793,  2.19043509,\n",
       "        0.53709487,  1.08477821, -0.64923168,  0.10493512, -0.74300284,\n",
       "        0.20192391,  1.57745903,  1.4176652 , -1.25250507, -0.32762345,\n",
       "       -2.20328319, -0.46216889, -1.22989931,  0.03675278,  1.62838033,\n",
       "        0.86610964,  1.36388846, -0.30503767,  0.03430502, -1.61896478,\n",
       "        0.47426189,  0.63666189, -1.86743841,  1.21831976,  1.12174539,\n",
       "       -0.36216354,  0.55140922,  1.18723824,  0.33877   ,  0.1483397 ,\n",
       "        1.81643174,  0.31528202, -0.71331866, -1.278483  ,  0.37459283,\n",
       "        2.35229845,  0.28067226, -1.43698202,  0.36192163, -0.70915073,\n",
       "        0.04484775,  0.17311314,  1.97481111,  0.89989334, -0.42911917,\n",
       "        0.46342977,  0.71533837,  1.24894853, -1.08462479, -0.99420515,\n",
       "        1.44252229,  1.06661515, -0.49368211,  0.01237227,  0.81242094,\n",
       "        0.14469251, -0.50244201,  0.99070277,  0.24506849, -1.6829884 ])"
      ]
     },
     "execution_count": 241,
     "metadata": {},
     "output_type": "execute_result"
    }
   ],
   "source": [
    "# negate bool\n",
    "a = np.random.randint(0,2,100)\n",
    "np.logical_not(a, out=a)\n",
    "# flip sign\n",
    "b = np.random.normal(0, 1, 100)\n",
    "np.negative(b, out=b)\n"
   ]
  },
  {
   "cell_type": "markdown",
   "id": "94a6cb93",
   "metadata": {},
   "source": [
    "#### 78. Consider 2 sets of points P0,P1 describing lines (2d) and a point p, how to compute distance from p to each line i (P0[i],P1[i])? (★★★)"
   ]
  },
  {
   "cell_type": "code",
   "execution_count": 243,
   "id": "705f9fa8",
   "metadata": {},
   "outputs": [
    {
     "name": "stdout",
     "output_type": "stream",
     "text": [
      "[0.36078405 0.21821718 0.22264103 0.31445126 0.01344258 0.16874722\n",
      " 0.14383929 0.02175021 0.33010156 0.28071182]\n"
     ]
    }
   ],
   "source": [
    "p0 = np.random.rand(10, 2)\n",
    "p1 = np.random.rand(10, 2)\n",
    "p = np.random.rand(2)\n",
    "# P0->P1\n",
    "p0p1 = p1 - p0\n",
    "# P0->P\n",
    "p0p = p - p0\n",
    "# cross product\n",
    "cross = p0p1[:, 0] * p0p[:, 1] - p0p1[:, 1] * p0p[:, 0]\n",
    "# distance\n",
    "dist = np.linalg.norm(p0p1, axis=1)\n",
    "# final dist\n",
    "distances = np.abs(cross) / dist\n",
    "print(distances)  # Distances from point p to the line segments P0->P1\n"
   ]
  },
  {
   "cell_type": "markdown",
   "id": "7a7b065f",
   "metadata": {},
   "source": [
    "#### 79. Consider 2 sets of points P0,P1 describing lines (2d) and a set of points P, how to compute distance from each point j (P[j]) to each line i (P0[i],P1[i])? (★★★)"
   ]
  },
  {
   "cell_type": "code",
   "execution_count": null,
   "id": "a76a1e2a",
   "metadata": {},
   "outputs": [
    {
     "name": "stdout",
     "output_type": "stream",
     "text": [
      "[[0.34433921 0.14591869 0.51239065 0.48060275 0.07590018]\n",
      " [0.02760293 0.03740225 0.55335932 0.72693357 0.57679774]\n",
      " [0.07089925 0.34371631 0.00095253 0.04189299 0.10577451]\n",
      " [0.47392843 0.65109929 0.11740607 0.12889865 0.55679259]]\n"
     ]
    }
   ],
   "source": [
    "n, m = 5, 4\n",
    "p0 = np.random.rand(n, 2)\n",
    "p1 = np.random.rand(n, 2)\n",
    "P = np.random.rand(m,2)\n",
    "p0p1 = p1 - p0\n",
    "line_len = np.linalg.norm(p0p1, axis=1)\n",
    "p0p1 = p0p1[None, :, :]  \n",
    "p0p = p0[None, :, :] - P[:, None, :]\n",
    "cross = p0p1[:, :, 0]*p0p[:, :, 1] - p0p1[:, :, 1]*p0p[:, :, 0]\n",
    "D = np.abs(cross)/line_len\n",
    "print(D)  # Distances from points in P to the line segments P0->P1"
   ]
  },
  {
   "cell_type": "markdown",
   "id": "a4a22eac",
   "metadata": {},
   "source": [
    "#### 80. Consider an arbitrary array, write a function that extracts a subpart with a fixed shape and centered on a given element (pad with a `fill` value when necessary) (★★★)"
   ]
  },
  {
   "cell_type": "code",
   "execution_count": null,
   "id": "3d0a25fa",
   "metadata": {},
   "outputs": [
    {
     "name": "stdout",
     "output_type": "stream",
     "text": [
      "[[ 0  0  0  0  0]\n",
      " [ 0  1  2  3  4]\n",
      " [ 0 11 12 13 14]\n",
      " [ 0 21 22 23 24]\n",
      " [ 0 31 32 33 34]]\n"
     ]
    }
   ],
   "source": [
    "def extract_centered_subarray(arr, center, shape, fill=0):\n",
    "    arr = np.asarray(arr)\n",
    "    ndim = arr.ndim\n",
    "    center = np.array(center)\n",
    "    shape = np.array(shape)\n",
    "\n",
    "    out = np.full(shape, fill, dtype=arr.dtype)\n",
    "\n",
    "    arr_shape = np.array(arr.shape)\n",
    "    result_shape = np.array(shape)\n",
    "\n",
    "    z_start = center - result_shape // 2\n",
    "    z_stop = center + result_shape // 2 + result_shape % 2\n",
    "\n",
    "    out_start = np.zeros_like(shape)\n",
    "    out_stop = result_shape.copy()\n",
    "\n",
    "    # adjust for out of bounds\n",
    "    out_start = out_start - np.minimum(z_start, 0)\n",
    "    z_start = np.maximum(z_start, 0)\n",
    "\n",
    "    out_stop = np.maximum(out_start, out_stop - np.maximum(z_stop - arr_shape, 0))\n",
    "    z_stop = np.minimum(z_stop, arr_shape)\n",
    "\n",
    "    # build slices\n",
    "    out_slices = tuple(slice(start, stop) for start,stop in zip(out_start, out_stop))\n",
    "    z_slices = tuple(slice(start, stop) for start,stop in zip(z_start, z_stop))\n",
    "    out[out_slices] = arr[z_slices]\n",
    "    return out\n",
    "\n",
    "arr = np.arange(1,101).reshape(10, 10)\n",
    "res = extract_centered_subarray(arr, center=(1, 1), shape=(5, 5), fill=0)\n",
    "print(res)  "
   ]
  },
  {
   "cell_type": "markdown",
   "id": "3e056709",
   "metadata": {},
   "source": [
    "#### 81. Consider an array Z = [1,2,3,4,5,6,7,8,9,10,11,12,13,14], how to generate an array R = [[1,2,3,4], [2,3,4,5], [3,4,5,6], ..., [11,12,13,14]]? (★★★)"
   ]
  },
  {
   "cell_type": "code",
   "execution_count": null,
   "id": "16e69f8c",
   "metadata": {},
   "outputs": [
    {
     "name": "stdout",
     "output_type": "stream",
     "text": [
      "[[ 1  2  3  4]\n",
      " [ 2  3  4  5]\n",
      " [ 3  4  5  6]\n",
      " [ 4  5  6  7]\n",
      " [ 5  6  7  8]\n",
      " [ 6  7  8  9]\n",
      " [ 7  8  9 10]\n",
      " [ 8  9 10 11]\n",
      " [ 9 10 11 12]\n",
      " [10 11 12 13]\n",
      " [11 12 13 14]]\n"
     ]
    }
   ],
   "source": [
    "Z = np.arange(1, 15)\n",
    "def sliding_window_view(arr, window=3):\n",
    "    shape = (arr.size - window + 1, window)\n",
    "    strides = (arr.strides[0], arr.strides[0])\n",
    "    return as_strided(arr, shape=shape, strides=strides)\n",
    "res = sliding_window_view(Z, window=4)\n",
    "print(res)  # Sliding window view of the array with specified window size\n",
    "\n"
   ]
  },
  {
   "cell_type": "markdown",
   "id": "df30b27a",
   "metadata": {},
   "source": [
    "#### 82. Compute a matrix rank (★★★)"
   ]
  },
  {
   "cell_type": "code",
   "execution_count": 266,
   "id": "a1d0d2cb",
   "metadata": {},
   "outputs": [
    {
     "name": "stdout",
     "output_type": "stream",
     "text": [
      "3\n"
     ]
    }
   ],
   "source": [
    "x = np.random.rand(3, 3)\n",
    "rank = np.linalg.matrix_rank(x)\n",
    "print(rank)"
   ]
  },
  {
   "cell_type": "markdown",
   "id": "f03b141d",
   "metadata": {},
   "source": [
    "#### 83. How to find the most frequent value in an array?"
   ]
  },
  {
   "cell_type": "code",
   "execution_count": 271,
   "id": "4ba555c9",
   "metadata": {},
   "outputs": [
    {
     "name": "stdout",
     "output_type": "stream",
     "text": [
      "7\n"
     ]
    }
   ],
   "source": [
    "x = np.random.randint(0,10,50)\n",
    "# mode\n",
    "print(np.bincount(x).argmax())  # Find the mode of the array"
   ]
  },
  {
   "cell_type": "markdown",
   "id": "eccb13af",
   "metadata": {},
   "source": [
    "#### 84. Extract all the contiguous 3x3 blocks from a random 10x10 matrix (★★★)"
   ]
  },
  {
   "cell_type": "code",
   "execution_count": 275,
   "id": "c0fa657e",
   "metadata": {},
   "outputs": [
    {
     "name": "stdout",
     "output_type": "stream",
     "text": [
      "[[1 7 2 1 1 1 0 4 6 3]\n",
      " [5 5 0 0 9 3 5 3 9 8]\n",
      " [8 4 6 0 3 3 1 0 2 0]\n",
      " [8 7 5 2 7 3 4 4 7 2]\n",
      " [9 4 8 4 4 0 9 5 9 9]\n",
      " [2 8 3 6 3 9 2 2 0 4]\n",
      " [9 5 8 3 2 2 6 4 5 4]\n",
      " [4 4 4 3 4 4 6 0 2 4]\n",
      " [6 3 9 2 1 5 9 2 9 1]\n",
      " [9 2 8 0 5 4 5 6 7 9]]\n",
      "(8, 8, 3, 3)\n",
      "[[1 7 2]\n",
      " [5 5 0]\n",
      " [8 4 6]]\n"
     ]
    }
   ],
   "source": [
    "x = np.random.randint(0,10, (10,10))\n",
    "print(x)\n",
    "block_shape = (3,3)\n",
    "\n",
    "output_shape = (x.shape[0]-block_shape[0]+1,\n",
    "                x.shape[1]-block_shape[1]+1,\n",
    "                block_shape[0], block_shape[1])\n",
    "\n",
    "strides = x.strides *2\n",
    "blocks = as_strided(x, shape=output_shape, strides=strides)\n",
    "print(blocks.shape)  # Shape of the blocks extracted from the array\n",
    "print(blocks[0,0])\n"
   ]
  },
  {
   "cell_type": "markdown",
   "id": "1e955525",
   "metadata": {},
   "source": [
    "#### 85. Create a 2D array subclass such that Z[i,j] == Z[j,i] (★★★)"
   ]
  },
  {
   "cell_type": "code",
   "execution_count": 278,
   "id": "4b640a43",
   "metadata": {},
   "outputs": [
    {
     "name": "stdout",
     "output_type": "stream",
     "text": [
      "[[0. 0. 0.]\n",
      " [0. 0. 0.]\n",
      " [0. 0. 0.]]\n"
     ]
    }
   ],
   "source": [
    "class SymmetricArray(np.ndarray):\n",
    "    def __new__(cls, shape, dtype=float, buffer=None):\n",
    "        assert shape[0] == shape[1], \"Shape must be square for symmetric array\"\n",
    "        obj = super().__new__(cls, shape, dtype, buffer)\n",
    "        return obj\n",
    "    def __setitem__(self, key, value):\n",
    "        i,j = key\n",
    "        super().__setitem__((i,j), value)\n",
    "        super().__setitem__((j,i), value)  # Ensure symmetry\n",
    "    \n",
    "    def __getitem__(self, key):\n",
    "        return super().__getitem__(key)\n",
    "    \n",
    "# exammple usage\n",
    "z = SymmetricArray((3, 3), buffer=np.zeros((3, 3), dtype=int))\n",
    "print(z)"
   ]
  },
  {
   "cell_type": "markdown",
   "id": "24891de6",
   "metadata": {},
   "source": [
    "#### 86. Consider a set of p matrices with shape (n,n) and a set of p vectors with shape (n,1). How to compute the sum of of the p matrix products at once? (result has shape (n,1)) (★★★)"
   ]
  },
  {
   "cell_type": "code",
   "execution_count": 280,
   "id": "3be310a0",
   "metadata": {},
   "outputs": [
    {
     "name": "stdout",
     "output_type": "stream",
     "text": [
      "(20, 1)\n"
     ]
    }
   ],
   "source": [
    "p, n = 10, 20\n",
    "M = np.ones((p,n,n))\n",
    "V = np.ones((p,n,1))\n",
    "S = np.tensordot(M, V, axes=[[0, 2], [0, 1]])\n",
    "print(S.shape)"
   ]
  },
  {
   "cell_type": "markdown",
   "id": "c250f782",
   "metadata": {},
   "source": [
    "#### 87. Consider a 16x16 array, how to get the block-sum (block size is 4x4)? (★★★)"
   ]
  },
  {
   "cell_type": "code",
   "execution_count": null,
   "id": "090b56b5",
   "metadata": {},
   "outputs": [
    {
     "name": "stdout",
     "output_type": "stream",
     "text": [
      "[[16. 16. 16. 16.]\n",
      " [16. 16. 16. 16.]\n",
      " [16. 16. 16. 16.]\n",
      " [16. 16. 16. 16.]]\n",
      "[[8 9 0 3 1 0 0 2 4 1 4 7 9 4 7 2]\n",
      " [8 0 5 8 8 2 8 8 9 8 2 5 1 3 8 6]\n",
      " [4 3 7 3 8 4 3 1 8 4 3 5 6 8 3 6]\n",
      " [6 1 5 0 7 9 0 3 1 8 2 2 0 2 6 9]\n",
      " [4 2 9 2 9 1 1 0 2 7 2 9 8 3 4 6]\n",
      " [4 3 0 1 7 7 6 8 7 8 9 7 7 6 9 8]\n",
      " [0 8 8 1 5 4 1 4 4 1 2 1 5 1 4 1]\n",
      " [4 0 3 4 1 5 4 2 0 7 1 1 8 1 9 3]\n",
      " [9 9 9 9 7 2 7 9 6 2 8 1 3 0 1 0]\n",
      " [8 3 6 4 9 4 0 9 6 9 7 2 0 6 3 6]\n",
      " [2 0 5 7 6 3 3 9 3 9 0 4 6 9 8 5]\n",
      " [8 0 9 0 3 7 3 2 5 7 0 4 7 8 8 5]\n",
      " [2 5 3 4 2 0 2 5 9 9 3 7 6 7 0 6]\n",
      " [1 2 4 5 6 2 9 8 8 8 3 2 6 8 6 8]\n",
      " [3 5 3 9 4 1 5 9 8 4 1 8 3 9 7 3]\n",
      " [5 6 9 4 6 2 6 7 6 0 4 9 3 2 1 0]]\n",
      "[[16. 16. 16. 16.]\n",
      " [16. 16. 16. 16.]\n",
      " [16. 16. 16. 16.]\n",
      " [16. 16. 16. 16.]]\n"
     ]
    }
   ],
   "source": [
    "block_size = 4\n",
    "res = a.reshape(a.shape[0]//block_size, block_size, \n",
    "                a.shape[1]//block_size, block_size).sum(axis=(1,3))\n",
    "print(a)\n",
    "print(res)"
   ]
  },
  {
   "cell_type": "markdown",
   "id": "48064219",
   "metadata": {},
   "source": [
    "#### 88. How to implement the Game of Life using numpy arrays? (★★★)"
   ]
  },
  {
   "cell_type": "code",
   "execution_count": 285,
   "id": "4c9bd070",
   "metadata": {},
   "outputs": [
    {
     "name": "stdout",
     "output_type": "stream",
     "text": [
      "Initial State:\n",
      " [[0 1 1 1 1 0 0 0 1 0]\n",
      " [1 1 0 0 1 1 1 1 1 0]\n",
      " [0 1 0 0 0 0 0 1 1 1]\n",
      " [1 0 1 0 1 1 1 0 0 0]\n",
      " [0 1 0 1 1 1 0 0 1 0]\n",
      " [0 0 1 0 0 1 1 1 1 0]\n",
      " [0 1 0 1 0 0 1 1 1 1]\n",
      " [1 1 0 1 0 1 0 0 1 1]\n",
      " [0 0 1 0 1 1 1 0 0 0]\n",
      " [1 0 0 1 0 1 0 0 0 0]]\n",
      "\n",
      "Next Generation:\n",
      " [[0 0 0 0 0 0 0 0 1 0]\n",
      " [0 0 0 0 1 1 1 0 0 0]\n",
      " [0 0 1 1 0 0 0 0 0 0]\n",
      " [1 0 1 0 0 0 1 0 0 0]\n",
      " [0 1 0 0 0 0 0 0 1 1]\n",
      " [1 1 0 0 0 0 0 0 0 0]\n",
      " [0 1 0 1 0 0 0 0 0 0]\n",
      " [0 1 0 1 0 0 0 0 0 0]\n",
      " [0 0 1 0 0 0 1 0 0 0]\n",
      " [0 0 0 0 0 0 1 0 0 0]]\n"
     ]
    }
   ],
   "source": [
    "import numpy as np\n",
    "\n",
    "def game_of_life_step(Z):\n",
    "    # Pad the array to handle edges with wrap-around (toroidal)\n",
    "    Z_padded = np.pad(Z, pad_width=1, mode='wrap')\n",
    "\n",
    "    # Count neighbors by summing the 8 surrounding cells\n",
    "    neighbors = (\n",
    "        Z_padded[0:-2, 0:-2] + Z_padded[0:-2, 1:-1] + Z_padded[0:-2, 2:] +\n",
    "        Z_padded[1:-1, 0:-2]                    + Z_padded[1:-1, 2:] +\n",
    "        Z_padded[2:  , 0:-2] + Z_padded[2:  , 1:-1] + Z_padded[2:  , 2:]\n",
    "    )\n",
    "\n",
    "    # Apply Game of Life rules\n",
    "    birth = (Z == 0) & (neighbors == 3)\n",
    "    survive = (Z == 1) & ((neighbors == 2) | (neighbors == 3))\n",
    "\n",
    "    return (birth | survive).astype(int)\n",
    "\n",
    "Z = np.random.randint(0, 2, (10, 10))\n",
    "print(\"Initial State:\\n\", Z)\n",
    "\n",
    "Z_next = game_of_life_step(Z)\n",
    "print(\"\\nNext Generation:\\n\", Z_next)\n"
   ]
  },
  {
   "cell_type": "markdown",
   "id": "3ad7c2e9",
   "metadata": {},
   "source": [
    "#### 89. How to get the n largest values of an array (★★★)"
   ]
  },
  {
   "cell_type": "code",
   "execution_count": 286,
   "id": "8d1dd580",
   "metadata": {},
   "outputs": [
    {
     "name": "stdout",
     "output_type": "stream",
     "text": [
      "Indices of the largest elements: [64 84 84 87 96]\n"
     ]
    }
   ],
   "source": [
    "a = np.random.randint(0, 100, 20)\n",
    "n = 5\n",
    "\n",
    "idx = np.argpartition(a, -n)[-n:] # Get indices of the n largest elements\n",
    "print(\"Indices of the largest elements:\", a[idx])"
   ]
  },
  {
   "cell_type": "markdown",
   "id": "3a64b152",
   "metadata": {},
   "source": [
    "#### 90. Given an arbitrary number of vectors, build the cartesian product (every combination of every item) (★★★)"
   ]
  },
  {
   "cell_type": "code",
   "execution_count": 290,
   "id": "e1bd5177",
   "metadata": {},
   "outputs": [
    {
     "name": "stdout",
     "output_type": "stream",
     "text": [
      "[[1 4 6]\n",
      " [1 4 7]\n",
      " [1 4 8]\n",
      " [1 5 6]\n",
      " [1 5 7]\n",
      " [1 5 8]\n",
      " [2 4 6]\n",
      " [2 4 7]\n",
      " [2 4 8]\n",
      " [2 5 6]\n",
      " [2 5 7]\n",
      " [2 5 8]\n",
      " [3 4 6]\n",
      " [3 4 7]\n",
      " [3 4 8]\n",
      " [3 5 6]\n",
      " [3 5 7]\n",
      " [3 5 8]]\n"
     ]
    }
   ],
   "source": [
    "def cartesian_product(*arrays):\n",
    "    \"\"\"\n",
    "    Compute the Cartesian product of input arrays.\n",
    "    \"\"\"\n",
    "    grids = np.meshgrid(*arrays, indexing='ij')  # 'ij' indexing is safer for cartesian product\n",
    "    stacked = np.stack(grids, axis=-1)\n",
    "    return stacked.reshape(-1, len(arrays))\n",
    "\n",
    "print(cartesian_product([1, 2, 3], [4, 5], [6, 7, 8]))"
   ]
  },
  {
   "cell_type": "markdown",
   "id": "2d4144aa",
   "metadata": {},
   "source": [
    "#### 91. How to create a record array from a regular array? (★★★)"
   ]
  },
  {
   "cell_type": "code",
   "execution_count": 292,
   "id": "d66e2085",
   "metadata": {},
   "outputs": [
    {
     "name": "stdout",
     "output_type": "stream",
     "text": [
      "[(1, 4.5) (2, 5.5) (3, 6.5)]\n",
      "[1 2 3]\n",
      "[4.5 5.5 6.5]\n"
     ]
    }
   ],
   "source": [
    "# Two separate 1D arrays\n",
    "x = np.array([1, 2, 3])\n",
    "y = np.array([4.5, 5.5, 6.5])\n",
    "\n",
    "rec_arr = np.rec.fromarrays([x, y], names='x,y')\n",
    "\n",
    "print(rec_arr)\n",
    "print(rec_arr.x)\n",
    "print(rec_arr.y)"
   ]
  },
  {
   "cell_type": "markdown",
   "id": "3712ad1d",
   "metadata": {},
   "source": [
    "#### 92. Consider a large vector Z, compute Z to the power of 3 using 3 different methods (★★★)"
   ]
  },
  {
   "cell_type": "code",
   "execution_count": 294,
   "id": "5627fa7c",
   "metadata": {},
   "outputs": [
    {
     "name": "stdout",
     "output_type": "stream",
     "text": [
      "True\n",
      "True\n"
     ]
    }
   ],
   "source": [
    "Z = np.arange(1, 10**6)\n",
    "meth1 = Z**3\n",
    "meth2 = np.power(Z,3)\n",
    "meth3 = Z*Z*Z\n",
    "print(np.allclose(meth1, meth2))\n",
    "print(np.allclose(meth1, meth3))"
   ]
  },
  {
   "cell_type": "markdown",
   "id": "7aadddea",
   "metadata": {},
   "source": [
    "#### 93. Consider two arrays A and B of shape (8,3) and (2,2). How to find rows of A that contain elements of each row of B regardless of the order of the elements in B? (★★★)"
   ]
  },
  {
   "cell_type": "code",
   "execution_count": 295,
   "id": "2d2bcb22",
   "metadata": {},
   "outputs": [
    {
     "name": "stdout",
     "output_type": "stream",
     "text": [
      "[0 1 3 4]\n"
     ]
    }
   ],
   "source": [
    "A = np.random.randint(0,5,(8,3))\n",
    "B = np.random.randint(0,5,(2,2))\n",
    "C = (A[..., np.newaxis, np.newaxis] == B)\n",
    "rows = np.where(C.any((3,1)).all(1))[0]\n",
    "print(rows)"
   ]
  },
  {
   "cell_type": "markdown",
   "id": "ce2e0ef6",
   "metadata": {},
   "source": [
    "#### 94. Considering a 10x3 matrix, extract rows with unequal values (e.g. [2,2,3]) (★★★)"
   ]
  },
  {
   "cell_type": "code",
   "execution_count": 297,
   "id": "94b79a35",
   "metadata": {},
   "outputs": [
    {
     "name": "stdout",
     "output_type": "stream",
     "text": [
      "[[2 4 1]\n",
      " [3 1 1]\n",
      " [4 1 2]\n",
      " [4 3 4]\n",
      " [4 3 2]\n",
      " [4 2 1]\n",
      " [3 1 4]\n",
      " [3 1 3]\n",
      " [2 1 2]\n",
      " [2 3 4]]\n"
     ]
    }
   ],
   "source": [
    "a = np.random.randint(1,5, (10,3))\n",
    "mask = np.any(a!=a[:, [0]], axis=1)\n",
    "unequal_rows = a[mask]\n",
    "print(unequal_rows)"
   ]
  },
  {
   "cell_type": "markdown",
   "id": "fac5263a",
   "metadata": {},
   "source": [
    "#### 95. Convert a vector of ints into a matrix binary representation (★★★)"
   ]
  },
  {
   "cell_type": "code",
   "execution_count": 300,
   "id": "62291895",
   "metadata": {},
   "outputs": [
    {
     "name": "stdout",
     "output_type": "stream",
     "text": [
      "[ 2  5  7 10]\n",
      "[[0 1 0 0 0 0 0 0]\n",
      " [1 0 1 0 0 0 0 0]\n",
      " [1 1 1 0 0 0 0 0]\n",
      " [0 1 0 1 0 0 0 0]]\n"
     ]
    }
   ],
   "source": [
    "vec = np.array([2,5,7,10])\n",
    "binary_matrix = ((vec.reshape(-1,1) & (2**np.arange(8))) != 0).astype(int)\n",
    "print(vec)\n",
    "print(binary_matrix)"
   ]
  },
  {
   "cell_type": "markdown",
   "id": "85bcb763",
   "metadata": {},
   "source": [
    "#### 96. Given a two dimensional array, how to extract unique rows? (★★★)"
   ]
  },
  {
   "cell_type": "code",
   "execution_count": 304,
   "id": "c348ae06",
   "metadata": {},
   "outputs": [
    {
     "name": "stdout",
     "output_type": "stream",
     "text": [
      "[[1 2]\n",
      " [1 3]\n",
      " [2 1]\n",
      " [2 2]\n",
      " [3 1]\n",
      " [3 2]\n",
      " [3 3]]\n"
     ]
    }
   ],
   "source": [
    "arr = np.random.randint(1,4,(10,2))\n",
    "unique_rows = np.unique(arr, axis=0)\n",
    "print(unique_rows)"
   ]
  },
  {
   "cell_type": "markdown",
   "id": "5d35d3f8",
   "metadata": {},
   "source": [
    "#### 97. Considering 2 vectors A & B, write the einsum equivalent of inner, outer, sum, and mul function (★★★)"
   ]
  },
  {
   "cell_type": "code",
   "execution_count": 305,
   "id": "7f04a281",
   "metadata": {},
   "outputs": [],
   "source": [
    "A = np.random.rand(10)\n",
    "B = np.random.rand(10)\n",
    "\n",
    "# inner sum\n",
    "inner = np.einsum('i,i->', A,B)\n",
    "# outer produce\n",
    "outer = np.einsum('i,j ->ij', A,B)\n",
    "#sum \n",
    "sum_all = np.einsum('i,j->', A, B)\n",
    "# mul\n",
    "mul = np.einsum('i,i->i', A, B)\n",
    "\n"
   ]
  },
  {
   "cell_type": "markdown",
   "id": "fd4cd346",
   "metadata": {},
   "source": [
    "#### 98. Considering a path described by two vectors (X,Y), how to sample it using equidistant samples (★★★)?"
   ]
  },
  {
   "cell_type": "code",
   "execution_count": 307,
   "id": "65790a2b",
   "metadata": {},
   "outputs": [
    {
     "name": "stdout",
     "output_type": "stream",
     "text": [
      "[2.         1.06043839 3.73979833 2.66899279 4.53801437 6.97893111\n",
      " 5.35585151 8.17846402 3.63347129 7.        ]\n",
      "[1.         5.69780806 2.52040334 5.99302164 7.15399521 6.51053444\n",
      " 7.4576594  5.72615467 4.2111571  5.        ]\n"
     ]
    }
   ],
   "source": [
    "def sample_equidistant(X,Y, n_samples):\n",
    "    dx = np.diff(X)\n",
    "    dy = np.diff(Y)\n",
    "\n",
    "    seg_lengths = np.sqrt(dx**2+dy**2)\n",
    "    cumdist = np.insert(np.cumsum(seg_lengths), 0,0)\n",
    "\n",
    "    equi_dist = np.linspace(0, cumdist[-1], n_samples)\n",
    "    _x = np.interp(equi_dist, cumdist, X)\n",
    "    _y = np.interp(equi_dist, cumdist, Y)\n",
    "    return _x,_y\n",
    "\n",
    "X = np.random.randint(1,10, (10,))\n",
    "Y = np.random.randint(1,10, (10,))\n",
    "X_s, Y_s = sample_equidistant(X,Y,n_samples=10)\n",
    "print(X_s)\n",
    "print(Y_s)"
   ]
  },
  {
   "cell_type": "markdown",
   "id": "5f0572af",
   "metadata": {},
   "source": [
    "#### 99. Given an integer n and a 2D array X, select from X the rows which can be interpreted as draws from a multinomial distribution with n degrees, i.e., the rows which only contain integers and which sum to n. (★★★)"
   ]
  },
  {
   "cell_type": "code",
   "execution_count": 328,
   "id": "fcea30b6",
   "metadata": {},
   "outputs": [
    {
     "name": "stdout",
     "output_type": "stream",
     "text": [
      "[[0 1 1 2 1]\n",
      " [0 1 0 0 0]\n",
      " [2 2 1 0 2]]\n",
      "[[0 1 1 2 1]]\n"
     ]
    }
   ],
   "source": [
    "X = np.random.randint(0,3,(3,5))\n",
    "n = 5\n",
    "M = np.logical_and.reduce(np.mod(X, 1) == 0, axis=-1)\n",
    "M &= (X.sum(axis=-1) == n)\n",
    "print(X)\n",
    "print(X[M])"
   ]
  },
  {
   "cell_type": "markdown",
   "id": "0c86dfd0",
   "metadata": {},
   "source": [
    "#### 100. Compute bootstrapped 95% confidence intervals for the mean of a 1D array X (i.e., resample the elements of an array with replacement N times, compute the mean of each sample, and then compute percentiles over the means). (★★★)"
   ]
  },
  {
   "cell_type": "code",
   "execution_count": 330,
   "id": "05e1d7f9",
   "metadata": {},
   "outputs": [
    {
     "name": "stdout",
     "output_type": "stream",
     "text": [
      "[-0.6147432   0.13166017]\n"
     ]
    }
   ],
   "source": [
    "X = np.random.randn(10)\n",
    "N = 20\n",
    "idx = np.random.randint(0, X.size, (N, X.size))\n",
    "mu = X[idx].mean(axis=1)\n",
    "boot_confidence_int = np.percentile(mu, [2.5, 97.5])\n",
    "print(boot_confidence_int)"
   ]
  }
 ],
 "metadata": {
  "kernelspec": {
   "display_name": ".venv",
   "language": "python",
   "name": "python3"
  },
  "language_info": {
   "codemirror_mode": {
    "name": "ipython",
    "version": 3
   },
   "file_extension": ".py",
   "mimetype": "text/x-python",
   "name": "python",
   "nbconvert_exporter": "python",
   "pygments_lexer": "ipython3",
   "version": "3.13.2"
  }
 },
 "nbformat": 4,
 "nbformat_minor": 5
}
